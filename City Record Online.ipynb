{
 "cells": [
  {
   "cell_type": "code",
   "execution_count": 19,
   "metadata": {},
   "outputs": [
    {
     "name": "stderr",
     "output_type": "stream",
     "text": [
      "D:\\Program\\Anaconda3\\lib\\site-packages\\IPython\\core\\interactiveshell.py:3063: DtypeWarning: Columns (12,13,14,15,27,29) have mixed types.Specify dtype option on import or set low_memory=False.\n",
      "  interactivity=interactivity, compiler=compiler, result=result)\n"
     ]
    },
    {
     "data": {
      "text/html": [
       "<div>\n",
       "<style scoped>\n",
       "    .dataframe tbody tr th:only-of-type {\n",
       "        vertical-align: middle;\n",
       "    }\n",
       "\n",
       "    .dataframe tbody tr th {\n",
       "        vertical-align: top;\n",
       "    }\n",
       "\n",
       "    .dataframe thead th {\n",
       "        text-align: right;\n",
       "    }\n",
       "</style>\n",
       "<table border=\"1\" class=\"dataframe\">\n",
       "  <thead>\n",
       "    <tr style=\"text-align: right;\">\n",
       "      <th></th>\n",
       "      <th>RequestID</th>\n",
       "      <th>StartDate</th>\n",
       "      <th>EndDate</th>\n",
       "      <th>AgencyName</th>\n",
       "      <th>TypeOfNoticeDescription</th>\n",
       "      <th>CategoryDescription</th>\n",
       "      <th>ShortTitle</th>\n",
       "      <th>SelectionMethodDescription</th>\n",
       "      <th>SectionName</th>\n",
       "      <th>SpecialCaseReasonDescription</th>\n",
       "      <th>...</th>\n",
       "      <th>Printout2</th>\n",
       "      <th>Printout3</th>\n",
       "      <th>DocumentLinks</th>\n",
       "      <th>EventDate</th>\n",
       "      <th>EventBuildingName</th>\n",
       "      <th>EventStreetAddress1</th>\n",
       "      <th>EventStreetAddress2</th>\n",
       "      <th>EventCity</th>\n",
       "      <th>EventStateCode</th>\n",
       "      <th>EventZipCode</th>\n",
       "    </tr>\n",
       "  </thead>\n",
       "  <tbody>\n",
       "    <tr>\n",
       "      <th>0</th>\n",
       "      <td>20100628021</td>\n",
       "      <td>07/06/2010</td>\n",
       "      <td>07/06/2010</td>\n",
       "      <td>Transportation</td>\n",
       "      <td>Award</td>\n",
       "      <td>Services (other than human services)</td>\n",
       "      <td>NOTICE OF AWARD OF CONCESSION AT EAST RIVER PI...</td>\n",
       "      <td>Competitive Sealed Bids</td>\n",
       "      <td>Procurement</td>\n",
       "      <td>NaN</td>\n",
       "      <td>...</td>\n",
       "      <td>NaN</td>\n",
       "      <td>NaN</td>\n",
       "      <td>https://a856-cityrecord.nyc.gov/Search/GetFile...</td>\n",
       "      <td>NaN</td>\n",
       "      <td>NaN</td>\n",
       "      <td>NaN</td>\n",
       "      <td>NaN</td>\n",
       "      <td>NaN</td>\n",
       "      <td>NaN</td>\n",
       "      <td>NaN</td>\n",
       "    </tr>\n",
       "    <tr>\n",
       "      <th>1</th>\n",
       "      <td>20130214010</td>\n",
       "      <td>02/22/2013</td>\n",
       "      <td>02/22/2013</td>\n",
       "      <td>Parks and Recreation</td>\n",
       "      <td>Award</td>\n",
       "      <td>Services (other than human services)</td>\n",
       "      <td>DEPARTMENT OF PARKS  AND  RECREATION NOTICE OF...</td>\n",
       "      <td>Public Bid</td>\n",
       "      <td>Procurement</td>\n",
       "      <td>NaN</td>\n",
       "      <td>...</td>\n",
       "      <td>NaN</td>\n",
       "      <td>NaN</td>\n",
       "      <td>https://a856-cityrecord.nyc.gov/Search/GetFile...</td>\n",
       "      <td>NaN</td>\n",
       "      <td>NaN</td>\n",
       "      <td>NaN</td>\n",
       "      <td>NaN</td>\n",
       "      <td>NaN</td>\n",
       "      <td>NaN</td>\n",
       "      <td>NaN</td>\n",
       "    </tr>\n",
       "    <tr>\n",
       "      <th>2</th>\n",
       "      <td>20090911004</td>\n",
       "      <td>09/18/2009</td>\n",
       "      <td>09/18/2009</td>\n",
       "      <td>Transportation</td>\n",
       "      <td>Award</td>\n",
       "      <td>Services (other than human services)</td>\n",
       "      <td>OPERATION, MANAGEMENT, AND MAINTENANCE OF PEDE...</td>\n",
       "      <td>Sole Source</td>\n",
       "      <td>Procurement</td>\n",
       "      <td>Other (Describe below in Other Legally Mandate...</td>\n",
       "      <td>...</td>\n",
       "      <td>NaN</td>\n",
       "      <td>NaN</td>\n",
       "      <td>https://a856-cityrecord.nyc.gov/Search/GetFile...</td>\n",
       "      <td>NaN</td>\n",
       "      <td>NaN</td>\n",
       "      <td>NaN</td>\n",
       "      <td>NaN</td>\n",
       "      <td>NaN</td>\n",
       "      <td>NaN</td>\n",
       "      <td>NaN</td>\n",
       "    </tr>\n",
       "    <tr>\n",
       "      <th>3</th>\n",
       "      <td>20130415019</td>\n",
       "      <td>04/22/2013</td>\n",
       "      <td>04/22/2013</td>\n",
       "      <td>Parks and Recreation</td>\n",
       "      <td>Award</td>\n",
       "      <td>Goods</td>\n",
       "      <td>NOTICE OF AWARD</td>\n",
       "      <td>Public Bid</td>\n",
       "      <td>Procurement</td>\n",
       "      <td>NaN</td>\n",
       "      <td>...</td>\n",
       "      <td>NaN</td>\n",
       "      <td>NaN</td>\n",
       "      <td>https://a856-cityrecord.nyc.gov/Search/GetFile...</td>\n",
       "      <td>NaN</td>\n",
       "      <td>NaN</td>\n",
       "      <td>NaN</td>\n",
       "      <td>NaN</td>\n",
       "      <td>NaN</td>\n",
       "      <td>NaN</td>\n",
       "      <td>NaN</td>\n",
       "    </tr>\n",
       "    <tr>\n",
       "      <th>4</th>\n",
       "      <td>20110623031</td>\n",
       "      <td>06/24/2011</td>\n",
       "      <td>06/24/2011</td>\n",
       "      <td>Transportation</td>\n",
       "      <td>Award</td>\n",
       "      <td>Services (other than human services)</td>\n",
       "      <td>AIRPORT BUS FRANCHISE NOTICE OF AWARD</td>\n",
       "      <td>Request for Proposals</td>\n",
       "      <td>Procurement</td>\n",
       "      <td>NaN</td>\n",
       "      <td>...</td>\n",
       "      <td>NaN</td>\n",
       "      <td>NaN</td>\n",
       "      <td>https://a856-cityrecord.nyc.gov/Search/GetFile...</td>\n",
       "      <td>NaN</td>\n",
       "      <td>NaN</td>\n",
       "      <td>NaN</td>\n",
       "      <td>NaN</td>\n",
       "      <td>NaN</td>\n",
       "      <td>NaN</td>\n",
       "      <td>NaN</td>\n",
       "    </tr>\n",
       "  </tbody>\n",
       "</table>\n",
       "<p>5 rows × 37 columns</p>\n",
       "</div>"
      ],
      "text/plain": [
       "     RequestID   StartDate     EndDate            AgencyName  \\\n",
       "0  20100628021  07/06/2010  07/06/2010        Transportation   \n",
       "1  20130214010  02/22/2013  02/22/2013  Parks and Recreation   \n",
       "2  20090911004  09/18/2009  09/18/2009        Transportation   \n",
       "3  20130415019  04/22/2013  04/22/2013  Parks and Recreation   \n",
       "4  20110623031  06/24/2011  06/24/2011        Transportation   \n",
       "\n",
       "  TypeOfNoticeDescription                   CategoryDescription  \\\n",
       "0                   Award  Services (other than human services)   \n",
       "1                   Award  Services (other than human services)   \n",
       "2                   Award  Services (other than human services)   \n",
       "3                   Award                                 Goods   \n",
       "4                   Award  Services (other than human services)   \n",
       "\n",
       "                                          ShortTitle  \\\n",
       "0  NOTICE OF AWARD OF CONCESSION AT EAST RIVER PI...   \n",
       "1  DEPARTMENT OF PARKS  AND  RECREATION NOTICE OF...   \n",
       "2  OPERATION, MANAGEMENT, AND MAINTENANCE OF PEDE...   \n",
       "3                                    NOTICE OF AWARD   \n",
       "4              AIRPORT BUS FRANCHISE NOTICE OF AWARD   \n",
       "\n",
       "  SelectionMethodDescription  SectionName  \\\n",
       "0    Competitive Sealed Bids  Procurement   \n",
       "1                 Public Bid  Procurement   \n",
       "2                Sole Source  Procurement   \n",
       "3                 Public Bid  Procurement   \n",
       "4      Request for Proposals  Procurement   \n",
       "\n",
       "                        SpecialCaseReasonDescription  ... Printout2  \\\n",
       "0                                                NaN  ...       NaN   \n",
       "1                                                NaN  ...       NaN   \n",
       "2  Other (Describe below in Other Legally Mandate...  ...       NaN   \n",
       "3                                                NaN  ...       NaN   \n",
       "4                                                NaN  ...       NaN   \n",
       "\n",
       "   Printout3                                      DocumentLinks EventDate  \\\n",
       "0        NaN  https://a856-cityrecord.nyc.gov/Search/GetFile...       NaN   \n",
       "1        NaN  https://a856-cityrecord.nyc.gov/Search/GetFile...       NaN   \n",
       "2        NaN  https://a856-cityrecord.nyc.gov/Search/GetFile...       NaN   \n",
       "3        NaN  https://a856-cityrecord.nyc.gov/Search/GetFile...       NaN   \n",
       "4        NaN  https://a856-cityrecord.nyc.gov/Search/GetFile...       NaN   \n",
       "\n",
       "  EventBuildingName EventStreetAddress1  EventStreetAddress2  EventCity  \\\n",
       "0               NaN                 NaN                  NaN        NaN   \n",
       "1               NaN                 NaN                  NaN        NaN   \n",
       "2               NaN                 NaN                  NaN        NaN   \n",
       "3               NaN                 NaN                  NaN        NaN   \n",
       "4               NaN                 NaN                  NaN        NaN   \n",
       "\n",
       "  EventStateCode  EventZipCode  \n",
       "0            NaN           NaN  \n",
       "1            NaN           NaN  \n",
       "2            NaN           NaN  \n",
       "3            NaN           NaN  \n",
       "4            NaN           NaN  \n",
       "\n",
       "[5 rows x 37 columns]"
      ]
     },
     "execution_count": 19,
     "metadata": {},
     "output_type": "execute_result"
    }
   ],
   "source": [
    "import pandas as pd\n",
    "\n",
    "df=pd.read_csv('Recent_Contract_Awards.csv')\n",
    "df.head()"
   ]
  },
  {
   "cell_type": "code",
   "execution_count": 20,
   "metadata": {},
   "outputs": [
    {
     "data": {
      "text/plain": [
       "(35528, 37)"
      ]
     },
     "execution_count": 20,
     "metadata": {},
     "output_type": "execute_result"
    }
   ],
   "source": [
    "df.shape"
   ]
  },
  {
   "cell_type": "code",
   "execution_count": 21,
   "metadata": {},
   "outputs": [],
   "source": [
    "df['StartDatesep'] = pd.to_datetime(df['StartDate'])"
   ]
  },
  {
   "cell_type": "code",
   "execution_count": 22,
   "metadata": {},
   "outputs": [
    {
     "data": {
      "text/html": [
       "<div>\n",
       "<style scoped>\n",
       "    .dataframe tbody tr th:only-of-type {\n",
       "        vertical-align: middle;\n",
       "    }\n",
       "\n",
       "    .dataframe tbody tr th {\n",
       "        vertical-align: top;\n",
       "    }\n",
       "\n",
       "    .dataframe thead th {\n",
       "        text-align: right;\n",
       "    }\n",
       "</style>\n",
       "<table border=\"1\" class=\"dataframe\">\n",
       "  <thead>\n",
       "    <tr style=\"text-align: right;\">\n",
       "      <th></th>\n",
       "      <th>RequestID</th>\n",
       "      <th>StartDate</th>\n",
       "      <th>EndDate</th>\n",
       "      <th>AgencyName</th>\n",
       "      <th>TypeOfNoticeDescription</th>\n",
       "      <th>CategoryDescription</th>\n",
       "      <th>ShortTitle</th>\n",
       "      <th>SelectionMethodDescription</th>\n",
       "      <th>SectionName</th>\n",
       "      <th>SpecialCaseReasonDescription</th>\n",
       "      <th>...</th>\n",
       "      <th>EventDate</th>\n",
       "      <th>EventBuildingName</th>\n",
       "      <th>EventStreetAddress1</th>\n",
       "      <th>EventStreetAddress2</th>\n",
       "      <th>EventCity</th>\n",
       "      <th>EventStateCode</th>\n",
       "      <th>EventZipCode</th>\n",
       "      <th>StartDatesep</th>\n",
       "      <th>startyear</th>\n",
       "      <th>startmonth</th>\n",
       "    </tr>\n",
       "  </thead>\n",
       "  <tbody>\n",
       "    <tr>\n",
       "      <th>0</th>\n",
       "      <td>20100628021</td>\n",
       "      <td>07/06/2010</td>\n",
       "      <td>07/06/2010</td>\n",
       "      <td>Transportation</td>\n",
       "      <td>Award</td>\n",
       "      <td>Services (other than human services)</td>\n",
       "      <td>NOTICE OF AWARD OF CONCESSION AT EAST RIVER PI...</td>\n",
       "      <td>Competitive Sealed Bids</td>\n",
       "      <td>Procurement</td>\n",
       "      <td>NaN</td>\n",
       "      <td>...</td>\n",
       "      <td>NaN</td>\n",
       "      <td>NaN</td>\n",
       "      <td>NaN</td>\n",
       "      <td>NaN</td>\n",
       "      <td>NaN</td>\n",
       "      <td>NaN</td>\n",
       "      <td>NaN</td>\n",
       "      <td>2010-07-06</td>\n",
       "      <td>2010</td>\n",
       "      <td>7</td>\n",
       "    </tr>\n",
       "    <tr>\n",
       "      <th>1</th>\n",
       "      <td>20130214010</td>\n",
       "      <td>02/22/2013</td>\n",
       "      <td>02/22/2013</td>\n",
       "      <td>Parks and Recreation</td>\n",
       "      <td>Award</td>\n",
       "      <td>Services (other than human services)</td>\n",
       "      <td>DEPARTMENT OF PARKS  AND  RECREATION NOTICE OF...</td>\n",
       "      <td>Public Bid</td>\n",
       "      <td>Procurement</td>\n",
       "      <td>NaN</td>\n",
       "      <td>...</td>\n",
       "      <td>NaN</td>\n",
       "      <td>NaN</td>\n",
       "      <td>NaN</td>\n",
       "      <td>NaN</td>\n",
       "      <td>NaN</td>\n",
       "      <td>NaN</td>\n",
       "      <td>NaN</td>\n",
       "      <td>2013-02-22</td>\n",
       "      <td>2013</td>\n",
       "      <td>2</td>\n",
       "    </tr>\n",
       "    <tr>\n",
       "      <th>2</th>\n",
       "      <td>20090911004</td>\n",
       "      <td>09/18/2009</td>\n",
       "      <td>09/18/2009</td>\n",
       "      <td>Transportation</td>\n",
       "      <td>Award</td>\n",
       "      <td>Services (other than human services)</td>\n",
       "      <td>OPERATION, MANAGEMENT, AND MAINTENANCE OF PEDE...</td>\n",
       "      <td>Sole Source</td>\n",
       "      <td>Procurement</td>\n",
       "      <td>Other (Describe below in Other Legally Mandate...</td>\n",
       "      <td>...</td>\n",
       "      <td>NaN</td>\n",
       "      <td>NaN</td>\n",
       "      <td>NaN</td>\n",
       "      <td>NaN</td>\n",
       "      <td>NaN</td>\n",
       "      <td>NaN</td>\n",
       "      <td>NaN</td>\n",
       "      <td>2009-09-18</td>\n",
       "      <td>2009</td>\n",
       "      <td>9</td>\n",
       "    </tr>\n",
       "    <tr>\n",
       "      <th>3</th>\n",
       "      <td>20130415019</td>\n",
       "      <td>04/22/2013</td>\n",
       "      <td>04/22/2013</td>\n",
       "      <td>Parks and Recreation</td>\n",
       "      <td>Award</td>\n",
       "      <td>Goods</td>\n",
       "      <td>NOTICE OF AWARD</td>\n",
       "      <td>Public Bid</td>\n",
       "      <td>Procurement</td>\n",
       "      <td>NaN</td>\n",
       "      <td>...</td>\n",
       "      <td>NaN</td>\n",
       "      <td>NaN</td>\n",
       "      <td>NaN</td>\n",
       "      <td>NaN</td>\n",
       "      <td>NaN</td>\n",
       "      <td>NaN</td>\n",
       "      <td>NaN</td>\n",
       "      <td>2013-04-22</td>\n",
       "      <td>2013</td>\n",
       "      <td>4</td>\n",
       "    </tr>\n",
       "    <tr>\n",
       "      <th>4</th>\n",
       "      <td>20110623031</td>\n",
       "      <td>06/24/2011</td>\n",
       "      <td>06/24/2011</td>\n",
       "      <td>Transportation</td>\n",
       "      <td>Award</td>\n",
       "      <td>Services (other than human services)</td>\n",
       "      <td>AIRPORT BUS FRANCHISE NOTICE OF AWARD</td>\n",
       "      <td>Request for Proposals</td>\n",
       "      <td>Procurement</td>\n",
       "      <td>NaN</td>\n",
       "      <td>...</td>\n",
       "      <td>NaN</td>\n",
       "      <td>NaN</td>\n",
       "      <td>NaN</td>\n",
       "      <td>NaN</td>\n",
       "      <td>NaN</td>\n",
       "      <td>NaN</td>\n",
       "      <td>NaN</td>\n",
       "      <td>2011-06-24</td>\n",
       "      <td>2011</td>\n",
       "      <td>6</td>\n",
       "    </tr>\n",
       "  </tbody>\n",
       "</table>\n",
       "<p>5 rows × 40 columns</p>\n",
       "</div>"
      ],
      "text/plain": [
       "     RequestID   StartDate     EndDate            AgencyName  \\\n",
       "0  20100628021  07/06/2010  07/06/2010        Transportation   \n",
       "1  20130214010  02/22/2013  02/22/2013  Parks and Recreation   \n",
       "2  20090911004  09/18/2009  09/18/2009        Transportation   \n",
       "3  20130415019  04/22/2013  04/22/2013  Parks and Recreation   \n",
       "4  20110623031  06/24/2011  06/24/2011        Transportation   \n",
       "\n",
       "  TypeOfNoticeDescription                   CategoryDescription  \\\n",
       "0                   Award  Services (other than human services)   \n",
       "1                   Award  Services (other than human services)   \n",
       "2                   Award  Services (other than human services)   \n",
       "3                   Award                                 Goods   \n",
       "4                   Award  Services (other than human services)   \n",
       "\n",
       "                                          ShortTitle  \\\n",
       "0  NOTICE OF AWARD OF CONCESSION AT EAST RIVER PI...   \n",
       "1  DEPARTMENT OF PARKS  AND  RECREATION NOTICE OF...   \n",
       "2  OPERATION, MANAGEMENT, AND MAINTENANCE OF PEDE...   \n",
       "3                                    NOTICE OF AWARD   \n",
       "4              AIRPORT BUS FRANCHISE NOTICE OF AWARD   \n",
       "\n",
       "  SelectionMethodDescription  SectionName  \\\n",
       "0    Competitive Sealed Bids  Procurement   \n",
       "1                 Public Bid  Procurement   \n",
       "2                Sole Source  Procurement   \n",
       "3                 Public Bid  Procurement   \n",
       "4      Request for Proposals  Procurement   \n",
       "\n",
       "                        SpecialCaseReasonDescription  ... EventDate  \\\n",
       "0                                                NaN  ...       NaN   \n",
       "1                                                NaN  ...       NaN   \n",
       "2  Other (Describe below in Other Legally Mandate...  ...       NaN   \n",
       "3                                                NaN  ...       NaN   \n",
       "4                                                NaN  ...       NaN   \n",
       "\n",
       "   EventBuildingName EventStreetAddress1 EventStreetAddress2 EventCity  \\\n",
       "0                NaN                 NaN                 NaN       NaN   \n",
       "1                NaN                 NaN                 NaN       NaN   \n",
       "2                NaN                 NaN                 NaN       NaN   \n",
       "3                NaN                 NaN                 NaN       NaN   \n",
       "4                NaN                 NaN                 NaN       NaN   \n",
       "\n",
       "  EventStateCode  EventZipCode  StartDatesep startyear  startmonth  \n",
       "0            NaN           NaN    2010-07-06      2010           7  \n",
       "1            NaN           NaN    2013-02-22      2013           2  \n",
       "2            NaN           NaN    2009-09-18      2009           9  \n",
       "3            NaN           NaN    2013-04-22      2013           4  \n",
       "4            NaN           NaN    2011-06-24      2011           6  \n",
       "\n",
       "[5 rows x 40 columns]"
      ]
     },
     "execution_count": 22,
     "metadata": {},
     "output_type": "execute_result"
    }
   ],
   "source": [
    "df['startyear'], df['startmonth'] = df['StartDatesep'].dt.year, df['StartDatesep'].dt.month\n",
    "df.head()"
   ]
  },
  {
   "cell_type": "markdown",
   "metadata": {},
   "source": [
    "Keep only rows with a StartDate occurring from 2010 to 2019, inclusive. Next, remove all rows for which the ContractAmount field is less than or equal to zero, or is missing entirely. Use this filtered data for the rest of the challenge, as well. For the remaining data, what is the total sum of contract amounts?"
   ]
  },
  {
   "cell_type": "code",
   "execution_count": 23,
   "metadata": {},
   "outputs": [],
   "source": [
    "df=df.loc[df.ContractAmount>=0]"
   ]
  },
  {
   "cell_type": "code",
   "execution_count": 24,
   "metadata": {},
   "outputs": [
    {
     "data": {
      "text/plain": [
       "(34093, 40)"
      ]
     },
     "execution_count": 24,
     "metadata": {},
     "output_type": "execute_result"
    }
   ],
   "source": [
    "df.shape"
   ]
  },
  {
   "cell_type": "code",
   "execution_count": 25,
   "metadata": {},
   "outputs": [],
   "source": [
    "df=df.loc[(df.startyear>=2010)&(df.startyear<=2019)]"
   ]
  },
  {
   "cell_type": "code",
   "execution_count": 26,
   "metadata": {},
   "outputs": [
    {
     "data": {
      "text/plain": [
       "(18221, 40)"
      ]
     },
     "execution_count": 26,
     "metadata": {},
     "output_type": "execute_result"
    }
   ],
   "source": [
    "df.shape"
   ]
  },
  {
   "cell_type": "code",
   "execution_count": 27,
   "metadata": {},
   "outputs": [
    {
     "data": {
      "text/plain": [
       "207783994327.83908"
      ]
     },
     "execution_count": 27,
     "metadata": {},
     "output_type": "execute_result"
    }
   ],
   "source": [
    "sum(df.ContractAmount)"
   ]
  },
  {
   "cell_type": "code",
   "execution_count": 28,
   "metadata": {},
   "outputs": [
    {
     "data": {
      "text/plain": [
       "0"
      ]
     },
     "execution_count": 28,
     "metadata": {},
     "output_type": "execute_result"
    }
   ],
   "source": [
    "df.ContractAmount.isnull().sum(axis=0)"
   ]
  },
  {
   "cell_type": "markdown",
   "metadata": {},
   "source": [
    "Determine the number of contracts awarded by each agency. For the top 5 agencies in terms the number of contracts, compute the mean ContractAmount per contract. Among these values, what is the ratio of the highest mean contract amount to the second highest?"
   ]
  },
  {
   "cell_type": "code",
   "execution_count": null,
   "metadata": {},
   "outputs": [],
   "source": []
  },
  {
   "cell_type": "code",
   "execution_count": null,
   "metadata": {},
   "outputs": [],
   "source": []
  },
  {
   "cell_type": "code",
   "execution_count": 29,
   "metadata": {},
   "outputs": [],
   "source": [
    "a=df[[ 'ContractAmount', 'AgencyName']].groupby(['AgencyName']).agg(['mean', 'count']).sort_values(('ContractAmount','count'),ascending=False).head(5)"
   ]
  },
  {
   "cell_type": "code",
   "execution_count": 30,
   "metadata": {},
   "outputs": [
    {
     "data": {
      "text/html": [
       "<div>\n",
       "<style scoped>\n",
       "    .dataframe tbody tr th:only-of-type {\n",
       "        vertical-align: middle;\n",
       "    }\n",
       "\n",
       "    .dataframe tbody tr th {\n",
       "        vertical-align: top;\n",
       "    }\n",
       "\n",
       "    .dataframe thead tr th {\n",
       "        text-align: left;\n",
       "    }\n",
       "\n",
       "    .dataframe thead tr:last-of-type th {\n",
       "        text-align: right;\n",
       "    }\n",
       "</style>\n",
       "<table border=\"1\" class=\"dataframe\">\n",
       "  <thead>\n",
       "    <tr>\n",
       "      <th></th>\n",
       "      <th colspan=\"2\" halign=\"left\">ContractAmount</th>\n",
       "    </tr>\n",
       "    <tr>\n",
       "      <th></th>\n",
       "      <th>mean</th>\n",
       "      <th>count</th>\n",
       "    </tr>\n",
       "    <tr>\n",
       "      <th>AgencyName</th>\n",
       "      <th></th>\n",
       "      <th></th>\n",
       "    </tr>\n",
       "  </thead>\n",
       "  <tbody>\n",
       "    <tr>\n",
       "      <th>Citywide Administrative Services</th>\n",
       "      <td>3.794259e+06</td>\n",
       "      <td>5098</td>\n",
       "    </tr>\n",
       "    <tr>\n",
       "      <th>Health and Mental Hygiene</th>\n",
       "      <td>5.155477e+07</td>\n",
       "      <td>2146</td>\n",
       "    </tr>\n",
       "    <tr>\n",
       "      <th>Dept Of Social Svcs/Human Resources Administration</th>\n",
       "      <td>5.499856e+06</td>\n",
       "      <td>1827</td>\n",
       "    </tr>\n",
       "    <tr>\n",
       "      <th>Design and Construction</th>\n",
       "      <td>1.076263e+07</td>\n",
       "      <td>1454</td>\n",
       "    </tr>\n",
       "    <tr>\n",
       "      <th>Administration for Children's Services</th>\n",
       "      <td>6.911672e+06</td>\n",
       "      <td>892</td>\n",
       "    </tr>\n",
       "  </tbody>\n",
       "</table>\n",
       "</div>"
      ],
      "text/plain": [
       "                                                   ContractAmount      \n",
       "                                                             mean count\n",
       "AgencyName                                                             \n",
       "Citywide Administrative Services                     3.794259e+06  5098\n",
       "Health and Mental Hygiene                            5.155477e+07  2146\n",
       "Dept Of Social Svcs/Human Resources Administration   5.499856e+06  1827\n",
       "Design and Construction                              1.076263e+07  1454\n",
       "Administration for Children's Services               6.911672e+06   892"
      ]
     },
     "execution_count": 30,
     "metadata": {},
     "output_type": "execute_result"
    }
   ],
   "source": [
    "a.head()"
   ]
  },
  {
   "cell_type": "code",
   "execution_count": 31,
   "metadata": {},
   "outputs": [
    {
     "data": {
      "text/plain": [
       "MultiIndex([('ContractAmount',  'mean'),\n",
       "            ('ContractAmount', 'count')],\n",
       "           )"
      ]
     },
     "execution_count": 31,
     "metadata": {},
     "output_type": "execute_result"
    }
   ],
   "source": [
    "a.columns"
   ]
  },
  {
   "cell_type": "code",
   "execution_count": 32,
   "metadata": {},
   "outputs": [
    {
     "data": {
      "text/plain": [
       "0.07359666603788505"
      ]
     },
     "execution_count": 32,
     "metadata": {},
     "output_type": "execute_result"
    }
   ],
   "source": [
    "a[('ContractAmount',  'mean')][0]/a[('ContractAmount',  'mean')][1]"
   ]
  },
  {
   "cell_type": "markdown",
   "metadata": {},
   "source": [
    "Consider only procurements made by the Citywide Administrative Services agency and compute the sum contract amount awarded to each unique vendor. What proportion of the total number of contracts in the data set were awarded to the top 50 vendors?"
   ]
  },
  {
   "cell_type": "code",
   "execution_count": 33,
   "metadata": {},
   "outputs": [
    {
     "data": {
      "text/plain": [
       "Index(['RequestID', 'StartDate', 'EndDate', 'AgencyName',\n",
       "       'TypeOfNoticeDescription', 'CategoryDescription', 'ShortTitle',\n",
       "       'SelectionMethodDescription', 'SectionName',\n",
       "       'SpecialCaseReasonDescription', 'PIN', 'DueDate', 'AddressToRequest',\n",
       "       'ContactName', 'ContactPhone', 'Email', 'ContractAmount', 'ContactFax',\n",
       "       'AdditionalDescription1', 'AdditionalDesctription2',\n",
       "       'AdditionalDescription3', 'OtherInfo1', 'OtherInfo2', 'OtherInfo3',\n",
       "       'VendorName', 'VendorAddress', 'Printout1', 'Printout2', 'Printout3',\n",
       "       'DocumentLinks', 'EventDate', 'EventBuildingName',\n",
       "       'EventStreetAddress1', 'EventStreetAddress2', 'EventCity',\n",
       "       'EventStateCode', 'EventZipCode', 'StartDatesep', 'startyear',\n",
       "       'startmonth'],\n",
       "      dtype='object')"
      ]
     },
     "execution_count": 33,
     "metadata": {},
     "output_type": "execute_result"
    }
   ],
   "source": [
    "df.columns"
   ]
  },
  {
   "cell_type": "code",
   "execution_count": 34,
   "metadata": {},
   "outputs": [
    {
     "data": {
      "text/html": [
       "<div>\n",
       "<style scoped>\n",
       "    .dataframe tbody tr th:only-of-type {\n",
       "        vertical-align: middle;\n",
       "    }\n",
       "\n",
       "    .dataframe tbody tr th {\n",
       "        vertical-align: top;\n",
       "    }\n",
       "\n",
       "    .dataframe thead th {\n",
       "        text-align: right;\n",
       "    }\n",
       "</style>\n",
       "<table border=\"1\" class=\"dataframe\">\n",
       "  <thead>\n",
       "    <tr style=\"text-align: right;\">\n",
       "      <th></th>\n",
       "      <th>RequestID</th>\n",
       "      <th>StartDate</th>\n",
       "      <th>EndDate</th>\n",
       "      <th>AgencyName</th>\n",
       "      <th>TypeOfNoticeDescription</th>\n",
       "      <th>CategoryDescription</th>\n",
       "      <th>ShortTitle</th>\n",
       "      <th>SelectionMethodDescription</th>\n",
       "      <th>SectionName</th>\n",
       "      <th>SpecialCaseReasonDescription</th>\n",
       "      <th>...</th>\n",
       "      <th>EventDate</th>\n",
       "      <th>EventBuildingName</th>\n",
       "      <th>EventStreetAddress1</th>\n",
       "      <th>EventStreetAddress2</th>\n",
       "      <th>EventCity</th>\n",
       "      <th>EventStateCode</th>\n",
       "      <th>EventZipCode</th>\n",
       "      <th>StartDatesep</th>\n",
       "      <th>startyear</th>\n",
       "      <th>startmonth</th>\n",
       "    </tr>\n",
       "  </thead>\n",
       "  <tbody>\n",
       "    <tr>\n",
       "      <th>168</th>\n",
       "      <td>20110726010</td>\n",
       "      <td>08/02/2011</td>\n",
       "      <td>08/02/2011</td>\n",
       "      <td>Citywide Administrative Services</td>\n",
       "      <td>Award</td>\n",
       "      <td>Construction/Construction Services</td>\n",
       "      <td>ELEVATOR UPGRADE, 80 CENTRE STREET</td>\n",
       "      <td>Competitive Sealed Bids</td>\n",
       "      <td>Procurement</td>\n",
       "      <td>NaN</td>\n",
       "      <td>...</td>\n",
       "      <td>NaN</td>\n",
       "      <td>NaN</td>\n",
       "      <td>NaN</td>\n",
       "      <td>NaN</td>\n",
       "      <td>NaN</td>\n",
       "      <td>NaN</td>\n",
       "      <td>NaN</td>\n",
       "      <td>2011-08-02</td>\n",
       "      <td>2011</td>\n",
       "      <td>8</td>\n",
       "    </tr>\n",
       "    <tr>\n",
       "      <th>172</th>\n",
       "      <td>20151019009</td>\n",
       "      <td>10/26/2015</td>\n",
       "      <td>10/26/2015</td>\n",
       "      <td>Citywide Administrative Services</td>\n",
       "      <td>Award</td>\n",
       "      <td>Goods</td>\n",
       "      <td>EQUIPMENT II, RENTAL OF VARIOUS</td>\n",
       "      <td>Other</td>\n",
       "      <td>Procurement</td>\n",
       "      <td>NaN</td>\n",
       "      <td>...</td>\n",
       "      <td>NaN</td>\n",
       "      <td>NaN</td>\n",
       "      <td>NaN</td>\n",
       "      <td>NaN</td>\n",
       "      <td>NaN</td>\n",
       "      <td>NaN</td>\n",
       "      <td>NaN</td>\n",
       "      <td>2015-10-26</td>\n",
       "      <td>2015</td>\n",
       "      <td>10</td>\n",
       "    </tr>\n",
       "    <tr>\n",
       "      <th>173</th>\n",
       "      <td>20190531014</td>\n",
       "      <td>06/07/2019</td>\n",
       "      <td>06/07/2019</td>\n",
       "      <td>Citywide Administrative Services</td>\n",
       "      <td>Award</td>\n",
       "      <td>Goods</td>\n",
       "      <td>NYS OGS - TASK FORCE RESCUE SYSTEM - FDNY</td>\n",
       "      <td>Intergovernmental Purchase</td>\n",
       "      <td>Procurement</td>\n",
       "      <td>Other (Describe below in Other Legally Mandate...</td>\n",
       "      <td>...</td>\n",
       "      <td>NaN</td>\n",
       "      <td>NaN</td>\n",
       "      <td>NaN</td>\n",
       "      <td>NaN</td>\n",
       "      <td>NaN</td>\n",
       "      <td>NaN</td>\n",
       "      <td>NaN</td>\n",
       "      <td>2019-06-07</td>\n",
       "      <td>2019</td>\n",
       "      <td>6</td>\n",
       "    </tr>\n",
       "    <tr>\n",
       "      <th>175</th>\n",
       "      <td>20160420023</td>\n",
       "      <td>04/27/2016</td>\n",
       "      <td>04/27/2016</td>\n",
       "      <td>Citywide Administrative Services</td>\n",
       "      <td>Award</td>\n",
       "      <td>Goods</td>\n",
       "      <td>SNACKS</td>\n",
       "      <td>Competitive Sealed Bids</td>\n",
       "      <td>Procurement</td>\n",
       "      <td>NaN</td>\n",
       "      <td>...</td>\n",
       "      <td>NaN</td>\n",
       "      <td>NaN</td>\n",
       "      <td>NaN</td>\n",
       "      <td>NaN</td>\n",
       "      <td>NaN</td>\n",
       "      <td>NaN</td>\n",
       "      <td>NaN</td>\n",
       "      <td>2016-04-27</td>\n",
       "      <td>2016</td>\n",
       "      <td>4</td>\n",
       "    </tr>\n",
       "    <tr>\n",
       "      <th>190</th>\n",
       "      <td>20160425024</td>\n",
       "      <td>05/02/2016</td>\n",
       "      <td>05/02/2016</td>\n",
       "      <td>Citywide Administrative Services</td>\n",
       "      <td>Award</td>\n",
       "      <td>Goods</td>\n",
       "      <td>FRUITS  AND  VEGETABLES - FRESH, SEASONAL</td>\n",
       "      <td>Competitive Sealed Bids</td>\n",
       "      <td>Procurement</td>\n",
       "      <td>NaN</td>\n",
       "      <td>...</td>\n",
       "      <td>NaN</td>\n",
       "      <td>NaN</td>\n",
       "      <td>NaN</td>\n",
       "      <td>NaN</td>\n",
       "      <td>NaN</td>\n",
       "      <td>NaN</td>\n",
       "      <td>NaN</td>\n",
       "      <td>2016-05-02</td>\n",
       "      <td>2016</td>\n",
       "      <td>5</td>\n",
       "    </tr>\n",
       "  </tbody>\n",
       "</table>\n",
       "<p>5 rows × 40 columns</p>\n",
       "</div>"
      ],
      "text/plain": [
       "       RequestID   StartDate     EndDate                        AgencyName  \\\n",
       "168  20110726010  08/02/2011  08/02/2011  Citywide Administrative Services   \n",
       "172  20151019009  10/26/2015  10/26/2015  Citywide Administrative Services   \n",
       "173  20190531014  06/07/2019  06/07/2019  Citywide Administrative Services   \n",
       "175  20160420023  04/27/2016  04/27/2016  Citywide Administrative Services   \n",
       "190  20160425024  05/02/2016  05/02/2016  Citywide Administrative Services   \n",
       "\n",
       "    TypeOfNoticeDescription                 CategoryDescription  \\\n",
       "168                   Award  Construction/Construction Services   \n",
       "172                   Award                               Goods   \n",
       "173                   Award                               Goods   \n",
       "175                   Award                               Goods   \n",
       "190                   Award                               Goods   \n",
       "\n",
       "                                    ShortTitle  SelectionMethodDescription  \\\n",
       "168         ELEVATOR UPGRADE, 80 CENTRE STREET     Competitive Sealed Bids   \n",
       "172            EQUIPMENT II, RENTAL OF VARIOUS                       Other   \n",
       "173  NYS OGS - TASK FORCE RESCUE SYSTEM - FDNY  Intergovernmental Purchase   \n",
       "175                                     SNACKS     Competitive Sealed Bids   \n",
       "190  FRUITS  AND  VEGETABLES - FRESH, SEASONAL     Competitive Sealed Bids   \n",
       "\n",
       "     SectionName                       SpecialCaseReasonDescription  ...  \\\n",
       "168  Procurement                                                NaN  ...   \n",
       "172  Procurement                                                NaN  ...   \n",
       "173  Procurement  Other (Describe below in Other Legally Mandate...  ...   \n",
       "175  Procurement                                                NaN  ...   \n",
       "190  Procurement                                                NaN  ...   \n",
       "\n",
       "    EventDate  EventBuildingName EventStreetAddress1 EventStreetAddress2  \\\n",
       "168       NaN                NaN                 NaN                 NaN   \n",
       "172       NaN                NaN                 NaN                 NaN   \n",
       "173       NaN                NaN                 NaN                 NaN   \n",
       "175       NaN                NaN                 NaN                 NaN   \n",
       "190       NaN                NaN                 NaN                 NaN   \n",
       "\n",
       "    EventCity EventStateCode  EventZipCode  StartDatesep startyear  startmonth  \n",
       "168       NaN            NaN           NaN    2011-08-02      2011           8  \n",
       "172       NaN            NaN           NaN    2015-10-26      2015          10  \n",
       "173       NaN            NaN           NaN    2019-06-07      2019           6  \n",
       "175       NaN            NaN           NaN    2016-04-27      2016           4  \n",
       "190       NaN            NaN           NaN    2016-05-02      2016           5  \n",
       "\n",
       "[5 rows x 40 columns]"
      ]
     },
     "execution_count": 34,
     "metadata": {},
     "output_type": "execute_result"
    }
   ],
   "source": [
    "dfCitywide =df.loc[df['AgencyName']=='Citywide Administrative Services']\n",
    "dfCitywide.head()"
   ]
  },
  {
   "cell_type": "code",
   "execution_count": 35,
   "metadata": {},
   "outputs": [
    {
     "data": {
      "text/plain": [
       "19343132463.83"
      ]
     },
     "execution_count": 35,
     "metadata": {},
     "output_type": "execute_result"
    }
   ],
   "source": [
    "dfCitywide['ContractAmount'].sum()"
   ]
  },
  {
   "cell_type": "code",
   "execution_count": 36,
   "metadata": {},
   "outputs": [
    {
     "data": {
      "text/plain": [
       "0.04338101849010709"
      ]
     },
     "execution_count": 36,
     "metadata": {},
     "output_type": "execute_result"
    }
   ],
   "source": [
    "839124787.0699999/19343132463.83"
   ]
  },
  {
   "cell_type": "code",
   "execution_count": 37,
   "metadata": {},
   "outputs": [
    {
     "data": {
      "text/plain": [
       "845"
      ]
     },
     "execution_count": 37,
     "metadata": {},
     "output_type": "execute_result"
    }
   ],
   "source": [
    "b=dfCitywide[[ 'ContractAmount']].groupby(dfCitywide.VendorName).agg(['sum','count']).sort_values(('ContractAmount','count'),ascending=False).head(50)\n",
    "b['ContractAmount','count'].sum()"
   ]
  },
  {
   "cell_type": "code",
   "execution_count": 38,
   "metadata": {},
   "outputs": [
    {
     "data": {
      "text/plain": [
       "ContractAmount    1.934313e+10\n",
       "Name: Citywide Administrative Services, dtype: float64"
      ]
     },
     "execution_count": 38,
     "metadata": {},
     "output_type": "execute_result"
    }
   ],
   "source": [
    "df[['ContractAmount']].groupby(df['AgencyName']).sum().loc['Citywide Administrative Services']"
   ]
  },
  {
   "cell_type": "code",
   "execution_count": 39,
   "metadata": {},
   "outputs": [
    {
     "data": {
      "text/plain": [
       "0.04338101849010709"
      ]
     },
     "execution_count": 39,
     "metadata": {},
     "output_type": "execute_result"
    }
   ],
   "source": [
    "b['ContractAmount','sum'].sum()/dfCitywide['ContractAmount'].sum()"
   ]
  },
  {
   "cell_type": "code",
   "execution_count": 40,
   "metadata": {},
   "outputs": [
    {
     "data": {
      "text/plain": [
       "ContractAmount    0.043381\n",
       "Name: Citywide Administrative Services, dtype: float64"
      ]
     },
     "execution_count": 40,
     "metadata": {},
     "output_type": "execute_result"
    }
   ],
   "source": [
    "b['ContractAmount','sum'].sum()/df[['ContractAmount']].groupby(df['AgencyName']).sum().loc['Citywide Administrative Services']"
   ]
  },
  {
   "cell_type": "code",
   "execution_count": 41,
   "metadata": {},
   "outputs": [
    {
     "data": {
      "text/plain": [
       "839124787.0699999"
      ]
     },
     "execution_count": 41,
     "metadata": {},
     "output_type": "execute_result"
    }
   ],
   "source": [
    "b['ContractAmount','sum'].sum()"
   ]
  },
  {
   "cell_type": "markdown",
   "metadata": {},
   "source": [
    "Do agencies publish procurement notices uniformly throughout the week? As an example, consider the agency of Parks and Recreation. For this agency, compute the weekday for which each notice was published, and perform a Chi-squared test on the null hypothesis that each weekday occurs equally often. Report the value of the test statistic."
   ]
  },
  {
   "cell_type": "code",
   "execution_count": 42,
   "metadata": {},
   "outputs": [
    {
     "data": {
      "text/html": [
       "<div>\n",
       "<style scoped>\n",
       "    .dataframe tbody tr th:only-of-type {\n",
       "        vertical-align: middle;\n",
       "    }\n",
       "\n",
       "    .dataframe tbody tr th {\n",
       "        vertical-align: top;\n",
       "    }\n",
       "\n",
       "    .dataframe thead th {\n",
       "        text-align: right;\n",
       "    }\n",
       "</style>\n",
       "<table border=\"1\" class=\"dataframe\">\n",
       "  <thead>\n",
       "    <tr style=\"text-align: right;\">\n",
       "      <th></th>\n",
       "      <th>RequestID</th>\n",
       "      <th>StartDate</th>\n",
       "      <th>EndDate</th>\n",
       "      <th>AgencyName</th>\n",
       "      <th>TypeOfNoticeDescription</th>\n",
       "      <th>CategoryDescription</th>\n",
       "      <th>ShortTitle</th>\n",
       "      <th>SelectionMethodDescription</th>\n",
       "      <th>SectionName</th>\n",
       "      <th>SpecialCaseReasonDescription</th>\n",
       "      <th>...</th>\n",
       "      <th>EventDate</th>\n",
       "      <th>EventBuildingName</th>\n",
       "      <th>EventStreetAddress1</th>\n",
       "      <th>EventStreetAddress2</th>\n",
       "      <th>EventCity</th>\n",
       "      <th>EventStateCode</th>\n",
       "      <th>EventZipCode</th>\n",
       "      <th>StartDatesep</th>\n",
       "      <th>startyear</th>\n",
       "      <th>startmonth</th>\n",
       "    </tr>\n",
       "  </thead>\n",
       "  <tbody>\n",
       "    <tr>\n",
       "      <th>1</th>\n",
       "      <td>20130214010</td>\n",
       "      <td>02/22/2013</td>\n",
       "      <td>02/22/2013</td>\n",
       "      <td>Parks and Recreation</td>\n",
       "      <td>Award</td>\n",
       "      <td>Services (other than human services)</td>\n",
       "      <td>DEPARTMENT OF PARKS  AND  RECREATION NOTICE OF...</td>\n",
       "      <td>Public Bid</td>\n",
       "      <td>Procurement</td>\n",
       "      <td>NaN</td>\n",
       "      <td>...</td>\n",
       "      <td>NaN</td>\n",
       "      <td>NaN</td>\n",
       "      <td>NaN</td>\n",
       "      <td>NaN</td>\n",
       "      <td>NaN</td>\n",
       "      <td>NaN</td>\n",
       "      <td>NaN</td>\n",
       "      <td>2013-02-22</td>\n",
       "      <td>2013</td>\n",
       "      <td>2</td>\n",
       "    </tr>\n",
       "    <tr>\n",
       "      <th>3</th>\n",
       "      <td>20130415019</td>\n",
       "      <td>04/22/2013</td>\n",
       "      <td>04/22/2013</td>\n",
       "      <td>Parks and Recreation</td>\n",
       "      <td>Award</td>\n",
       "      <td>Goods</td>\n",
       "      <td>NOTICE OF AWARD</td>\n",
       "      <td>Public Bid</td>\n",
       "      <td>Procurement</td>\n",
       "      <td>NaN</td>\n",
       "      <td>...</td>\n",
       "      <td>NaN</td>\n",
       "      <td>NaN</td>\n",
       "      <td>NaN</td>\n",
       "      <td>NaN</td>\n",
       "      <td>NaN</td>\n",
       "      <td>NaN</td>\n",
       "      <td>NaN</td>\n",
       "      <td>2013-04-22</td>\n",
       "      <td>2013</td>\n",
       "      <td>4</td>\n",
       "    </tr>\n",
       "    <tr>\n",
       "      <th>5</th>\n",
       "      <td>20130621002</td>\n",
       "      <td>06/27/2013</td>\n",
       "      <td>06/27/2013</td>\n",
       "      <td>Parks and Recreation</td>\n",
       "      <td>Award</td>\n",
       "      <td>Goods and Services</td>\n",
       "      <td>OPERATION AND MAINTENANCE OF UP TO TWO (2) BOO...</td>\n",
       "      <td>Request for Proposals</td>\n",
       "      <td>Procurement</td>\n",
       "      <td>NaN</td>\n",
       "      <td>...</td>\n",
       "      <td>NaN</td>\n",
       "      <td>NaN</td>\n",
       "      <td>NaN</td>\n",
       "      <td>NaN</td>\n",
       "      <td>NaN</td>\n",
       "      <td>NaN</td>\n",
       "      <td>NaN</td>\n",
       "      <td>2013-06-27</td>\n",
       "      <td>2013</td>\n",
       "      <td>6</td>\n",
       "    </tr>\n",
       "    <tr>\n",
       "      <th>6</th>\n",
       "      <td>20130422012</td>\n",
       "      <td>04/29/2013</td>\n",
       "      <td>04/29/2013</td>\n",
       "      <td>Parks and Recreation</td>\n",
       "      <td>Award</td>\n",
       "      <td>Goods and Services</td>\n",
       "      <td>NOTICE OF CONCESSION  AWARD</td>\n",
       "      <td>Public Bid</td>\n",
       "      <td>Procurement</td>\n",
       "      <td>NaN</td>\n",
       "      <td>...</td>\n",
       "      <td>NaN</td>\n",
       "      <td>NaN</td>\n",
       "      <td>NaN</td>\n",
       "      <td>NaN</td>\n",
       "      <td>NaN</td>\n",
       "      <td>NaN</td>\n",
       "      <td>NaN</td>\n",
       "      <td>2013-04-29</td>\n",
       "      <td>2013</td>\n",
       "      <td>4</td>\n",
       "    </tr>\n",
       "    <tr>\n",
       "      <th>10</th>\n",
       "      <td>20130307016</td>\n",
       "      <td>03/15/2013</td>\n",
       "      <td>03/15/2013</td>\n",
       "      <td>Parks and Recreation</td>\n",
       "      <td>Award</td>\n",
       "      <td>Human Services/Client Services</td>\n",
       "      <td>PARKS  AND  RECREATION AWARD NOTICES</td>\n",
       "      <td>Public Bid</td>\n",
       "      <td>Procurement</td>\n",
       "      <td>NaN</td>\n",
       "      <td>...</td>\n",
       "      <td>NaN</td>\n",
       "      <td>NaN</td>\n",
       "      <td>NaN</td>\n",
       "      <td>NaN</td>\n",
       "      <td>NaN</td>\n",
       "      <td>NaN</td>\n",
       "      <td>NaN</td>\n",
       "      <td>2013-03-15</td>\n",
       "      <td>2013</td>\n",
       "      <td>3</td>\n",
       "    </tr>\n",
       "  </tbody>\n",
       "</table>\n",
       "<p>5 rows × 40 columns</p>\n",
       "</div>"
      ],
      "text/plain": [
       "      RequestID   StartDate     EndDate            AgencyName  \\\n",
       "1   20130214010  02/22/2013  02/22/2013  Parks and Recreation   \n",
       "3   20130415019  04/22/2013  04/22/2013  Parks and Recreation   \n",
       "5   20130621002  06/27/2013  06/27/2013  Parks and Recreation   \n",
       "6   20130422012  04/29/2013  04/29/2013  Parks and Recreation   \n",
       "10  20130307016  03/15/2013  03/15/2013  Parks and Recreation   \n",
       "\n",
       "   TypeOfNoticeDescription                   CategoryDescription  \\\n",
       "1                    Award  Services (other than human services)   \n",
       "3                    Award                                 Goods   \n",
       "5                    Award                    Goods and Services   \n",
       "6                    Award                    Goods and Services   \n",
       "10                   Award        Human Services/Client Services   \n",
       "\n",
       "                                           ShortTitle  \\\n",
       "1   DEPARTMENT OF PARKS  AND  RECREATION NOTICE OF...   \n",
       "3                                     NOTICE OF AWARD   \n",
       "5   OPERATION AND MAINTENANCE OF UP TO TWO (2) BOO...   \n",
       "6                         NOTICE OF CONCESSION  AWARD   \n",
       "10               PARKS  AND  RECREATION AWARD NOTICES   \n",
       "\n",
       "   SelectionMethodDescription  SectionName SpecialCaseReasonDescription  ...  \\\n",
       "1                  Public Bid  Procurement                          NaN  ...   \n",
       "3                  Public Bid  Procurement                          NaN  ...   \n",
       "5       Request for Proposals  Procurement                          NaN  ...   \n",
       "6                  Public Bid  Procurement                          NaN  ...   \n",
       "10                 Public Bid  Procurement                          NaN  ...   \n",
       "\n",
       "   EventDate  EventBuildingName EventStreetAddress1 EventStreetAddress2  \\\n",
       "1        NaN                NaN                 NaN                 NaN   \n",
       "3        NaN                NaN                 NaN                 NaN   \n",
       "5        NaN                NaN                 NaN                 NaN   \n",
       "6        NaN                NaN                 NaN                 NaN   \n",
       "10       NaN                NaN                 NaN                 NaN   \n",
       "\n",
       "   EventCity EventStateCode  EventZipCode  StartDatesep startyear  startmonth  \n",
       "1        NaN            NaN           NaN    2013-02-22      2013           2  \n",
       "3        NaN            NaN           NaN    2013-04-22      2013           4  \n",
       "5        NaN            NaN           NaN    2013-06-27      2013           6  \n",
       "6        NaN            NaN           NaN    2013-04-29      2013           4  \n",
       "10       NaN            NaN           NaN    2013-03-15      2013           3  \n",
       "\n",
       "[5 rows x 40 columns]"
      ]
     },
     "execution_count": 42,
     "metadata": {},
     "output_type": "execute_result"
    }
   ],
   "source": [
    "dfPark =df.loc[df['AgencyName']=='Parks and Recreation']\n",
    "dfPark.head()"
   ]
  },
  {
   "cell_type": "code",
   "execution_count": 43,
   "metadata": {},
   "outputs": [
    {
     "data": {
      "text/plain": [
       "array(['Award'], dtype=object)"
      ]
     },
     "execution_count": 43,
     "metadata": {},
     "output_type": "execute_result"
    }
   ],
   "source": [
    "dfPark['TypeOfNoticeDescription'].unique()"
   ]
  },
  {
   "cell_type": "code",
   "execution_count": 44,
   "metadata": {},
   "outputs": [
    {
     "data": {
      "text/html": [
       "<div>\n",
       "<style scoped>\n",
       "    .dataframe tbody tr th:only-of-type {\n",
       "        vertical-align: middle;\n",
       "    }\n",
       "\n",
       "    .dataframe tbody tr th {\n",
       "        vertical-align: top;\n",
       "    }\n",
       "\n",
       "    .dataframe thead th {\n",
       "        text-align: right;\n",
       "    }\n",
       "</style>\n",
       "<table border=\"1\" class=\"dataframe\">\n",
       "  <thead>\n",
       "    <tr style=\"text-align: right;\">\n",
       "      <th></th>\n",
       "      <th>RequestID</th>\n",
       "      <th>StartDate</th>\n",
       "      <th>EndDate</th>\n",
       "      <th>AgencyName</th>\n",
       "      <th>TypeOfNoticeDescription</th>\n",
       "      <th>CategoryDescription</th>\n",
       "      <th>ShortTitle</th>\n",
       "      <th>SelectionMethodDescription</th>\n",
       "      <th>SectionName</th>\n",
       "      <th>SpecialCaseReasonDescription</th>\n",
       "      <th>...</th>\n",
       "      <th>EventDate</th>\n",
       "      <th>EventBuildingName</th>\n",
       "      <th>EventStreetAddress1</th>\n",
       "      <th>EventStreetAddress2</th>\n",
       "      <th>EventCity</th>\n",
       "      <th>EventStateCode</th>\n",
       "      <th>EventZipCode</th>\n",
       "      <th>StartDatesep</th>\n",
       "      <th>startyear</th>\n",
       "      <th>startmonth</th>\n",
       "    </tr>\n",
       "  </thead>\n",
       "  <tbody>\n",
       "    <tr>\n",
       "      <th>1290</th>\n",
       "      <td>20130405006</td>\n",
       "      <td>04/08/2013</td>\n",
       "      <td>04/12/2013</td>\n",
       "      <td>Parks and Recreation</td>\n",
       "      <td>Award</td>\n",
       "      <td>Goods and Services</td>\n",
       "      <td>CORRECTION: CONTINENTAL BREAKFAST AND LUNCH</td>\n",
       "      <td>Sole Source</td>\n",
       "      <td>Procurement</td>\n",
       "      <td>Available only from a single source</td>\n",
       "      <td>...</td>\n",
       "      <td>NaN</td>\n",
       "      <td>NaN</td>\n",
       "      <td>NaN</td>\n",
       "      <td>NaN</td>\n",
       "      <td>NaN</td>\n",
       "      <td>NaN</td>\n",
       "      <td>NaN</td>\n",
       "      <td>2013-04-08</td>\n",
       "      <td>2013</td>\n",
       "      <td>4</td>\n",
       "    </tr>\n",
       "    <tr>\n",
       "      <th>5177</th>\n",
       "      <td>20120210018</td>\n",
       "      <td>02/17/2012</td>\n",
       "      <td>02/24/2012</td>\n",
       "      <td>Parks and Recreation</td>\n",
       "      <td>Award</td>\n",
       "      <td>Goods and Services</td>\n",
       "      <td>GREENTHUMB GROWTOGETHER CONFERENCE</td>\n",
       "      <td>Sole Source</td>\n",
       "      <td>Procurement</td>\n",
       "      <td>Available only from a single source</td>\n",
       "      <td>...</td>\n",
       "      <td>NaN</td>\n",
       "      <td>NaN</td>\n",
       "      <td>NaN</td>\n",
       "      <td>NaN</td>\n",
       "      <td>NaN</td>\n",
       "      <td>NaN</td>\n",
       "      <td>NaN</td>\n",
       "      <td>2012-02-17</td>\n",
       "      <td>2012</td>\n",
       "      <td>2</td>\n",
       "    </tr>\n",
       "    <tr>\n",
       "      <th>5520</th>\n",
       "      <td>20130513022</td>\n",
       "      <td>05/16/2013</td>\n",
       "      <td>05/22/2013</td>\n",
       "      <td>Parks and Recreation</td>\n",
       "      <td>Award</td>\n",
       "      <td>Goods and Services</td>\n",
       "      <td>95161-PRINTING, INSTALLATION AND REMOVAL OF SU...</td>\n",
       "      <td>Sole Source</td>\n",
       "      <td>Procurement</td>\n",
       "      <td>Available only from a single source</td>\n",
       "      <td>...</td>\n",
       "      <td>NaN</td>\n",
       "      <td>NaN</td>\n",
       "      <td>NaN</td>\n",
       "      <td>NaN</td>\n",
       "      <td>NaN</td>\n",
       "      <td>NaN</td>\n",
       "      <td>NaN</td>\n",
       "      <td>2013-05-16</td>\n",
       "      <td>2013</td>\n",
       "      <td>5</td>\n",
       "    </tr>\n",
       "    <tr>\n",
       "      <th>5611</th>\n",
       "      <td>20110325008</td>\n",
       "      <td>03/31/2011</td>\n",
       "      <td>04/06/2011</td>\n",
       "      <td>Parks and Recreation</td>\n",
       "      <td>Award</td>\n",
       "      <td>Goods and Services</td>\n",
       "      <td>CORRECTION: BUS SHELTER ADVERTISING</td>\n",
       "      <td>Sole Source</td>\n",
       "      <td>Procurement</td>\n",
       "      <td>Available only from a single source</td>\n",
       "      <td>...</td>\n",
       "      <td>NaN</td>\n",
       "      <td>NaN</td>\n",
       "      <td>NaN</td>\n",
       "      <td>NaN</td>\n",
       "      <td>NaN</td>\n",
       "      <td>NaN</td>\n",
       "      <td>NaN</td>\n",
       "      <td>2011-03-31</td>\n",
       "      <td>2011</td>\n",
       "      <td>3</td>\n",
       "    </tr>\n",
       "    <tr>\n",
       "      <th>29711</th>\n",
       "      <td>20110726011</td>\n",
       "      <td>08/02/2011</td>\n",
       "      <td>08/08/2011</td>\n",
       "      <td>Parks and Recreation</td>\n",
       "      <td>Award</td>\n",
       "      <td>Goods and Services</td>\n",
       "      <td>SOFTWARE MAINTENANCE</td>\n",
       "      <td>Sole Source</td>\n",
       "      <td>Procurement</td>\n",
       "      <td>Available only from a single source</td>\n",
       "      <td>...</td>\n",
       "      <td>NaN</td>\n",
       "      <td>NaN</td>\n",
       "      <td>NaN</td>\n",
       "      <td>NaN</td>\n",
       "      <td>NaN</td>\n",
       "      <td>NaN</td>\n",
       "      <td>NaN</td>\n",
       "      <td>2011-08-02</td>\n",
       "      <td>2011</td>\n",
       "      <td>8</td>\n",
       "    </tr>\n",
       "    <tr>\n",
       "      <th>30480</th>\n",
       "      <td>20100616013</td>\n",
       "      <td>06/18/2010</td>\n",
       "      <td>06/24/2010</td>\n",
       "      <td>Parks and Recreation</td>\n",
       "      <td>Award</td>\n",
       "      <td>Goods and Services</td>\n",
       "      <td>ADVERTISING ON MTA PROPERTY</td>\n",
       "      <td>Sole Source</td>\n",
       "      <td>Procurement</td>\n",
       "      <td>Available only from a single source</td>\n",
       "      <td>...</td>\n",
       "      <td>NaN</td>\n",
       "      <td>NaN</td>\n",
       "      <td>NaN</td>\n",
       "      <td>NaN</td>\n",
       "      <td>NaN</td>\n",
       "      <td>NaN</td>\n",
       "      <td>NaN</td>\n",
       "      <td>2010-06-18</td>\n",
       "      <td>2010</td>\n",
       "      <td>6</td>\n",
       "    </tr>\n",
       "    <tr>\n",
       "      <th>30582</th>\n",
       "      <td>20111019010</td>\n",
       "      <td>10/25/2011</td>\n",
       "      <td>10/31/2011</td>\n",
       "      <td>Parks and Recreation</td>\n",
       "      <td>Award</td>\n",
       "      <td>Goods and Services</td>\n",
       "      <td>ZOO GARAGE EXTENSION</td>\n",
       "      <td>Sole Source</td>\n",
       "      <td>Procurement</td>\n",
       "      <td>Available only from a single source</td>\n",
       "      <td>...</td>\n",
       "      <td>NaN</td>\n",
       "      <td>NaN</td>\n",
       "      <td>NaN</td>\n",
       "      <td>NaN</td>\n",
       "      <td>NaN</td>\n",
       "      <td>NaN</td>\n",
       "      <td>NaN</td>\n",
       "      <td>2011-10-25</td>\n",
       "      <td>2011</td>\n",
       "      <td>10</td>\n",
       "    </tr>\n",
       "    <tr>\n",
       "      <th>31101</th>\n",
       "      <td>20110929018</td>\n",
       "      <td>10/06/2011</td>\n",
       "      <td>10/13/2011</td>\n",
       "      <td>Parks and Recreation</td>\n",
       "      <td>Award</td>\n",
       "      <td>Goods and Services</td>\n",
       "      <td>ADVERTISING ON MTA PROPERTY</td>\n",
       "      <td>Sole Source</td>\n",
       "      <td>Procurement</td>\n",
       "      <td>Available only from a single source</td>\n",
       "      <td>...</td>\n",
       "      <td>NaN</td>\n",
       "      <td>NaN</td>\n",
       "      <td>NaN</td>\n",
       "      <td>NaN</td>\n",
       "      <td>NaN</td>\n",
       "      <td>NaN</td>\n",
       "      <td>NaN</td>\n",
       "      <td>2011-10-06</td>\n",
       "      <td>2011</td>\n",
       "      <td>10</td>\n",
       "    </tr>\n",
       "    <tr>\n",
       "      <th>31128</th>\n",
       "      <td>20120709001</td>\n",
       "      <td>07/16/2012</td>\n",
       "      <td>07/20/2012</td>\n",
       "      <td>Parks and Recreation</td>\n",
       "      <td>Award</td>\n",
       "      <td>Goods and Services</td>\n",
       "      <td>SOFTWARE MAINTENANCE</td>\n",
       "      <td>Sole Source</td>\n",
       "      <td>Procurement</td>\n",
       "      <td>Available only from a single source</td>\n",
       "      <td>...</td>\n",
       "      <td>NaN</td>\n",
       "      <td>NaN</td>\n",
       "      <td>NaN</td>\n",
       "      <td>NaN</td>\n",
       "      <td>NaN</td>\n",
       "      <td>NaN</td>\n",
       "      <td>NaN</td>\n",
       "      <td>2012-07-16</td>\n",
       "      <td>2012</td>\n",
       "      <td>7</td>\n",
       "    </tr>\n",
       "    <tr>\n",
       "      <th>31911</th>\n",
       "      <td>20110324001</td>\n",
       "      <td>03/30/2011</td>\n",
       "      <td>04/05/2011</td>\n",
       "      <td>Parks and Recreation</td>\n",
       "      <td>Award</td>\n",
       "      <td>Goods</td>\n",
       "      <td>ADVERTISING ON MTA PROPERTY</td>\n",
       "      <td>Sole Source</td>\n",
       "      <td>Procurement</td>\n",
       "      <td>Available only from a single source</td>\n",
       "      <td>...</td>\n",
       "      <td>NaN</td>\n",
       "      <td>NaN</td>\n",
       "      <td>NaN</td>\n",
       "      <td>NaN</td>\n",
       "      <td>NaN</td>\n",
       "      <td>NaN</td>\n",
       "      <td>NaN</td>\n",
       "      <td>2011-03-30</td>\n",
       "      <td>2011</td>\n",
       "      <td>3</td>\n",
       "    </tr>\n",
       "    <tr>\n",
       "      <th>32007</th>\n",
       "      <td>20111006012</td>\n",
       "      <td>10/12/2011</td>\n",
       "      <td>10/18/2011</td>\n",
       "      <td>Parks and Recreation</td>\n",
       "      <td>Award</td>\n",
       "      <td>Goods and Services</td>\n",
       "      <td>PUBLICATION OF NEW YORK WILDLIFE VIEWING GUIDE</td>\n",
       "      <td>Sole Source</td>\n",
       "      <td>Procurement</td>\n",
       "      <td>Available only from a single source</td>\n",
       "      <td>...</td>\n",
       "      <td>NaN</td>\n",
       "      <td>NaN</td>\n",
       "      <td>NaN</td>\n",
       "      <td>NaN</td>\n",
       "      <td>NaN</td>\n",
       "      <td>NaN</td>\n",
       "      <td>NaN</td>\n",
       "      <td>2011-10-12</td>\n",
       "      <td>2011</td>\n",
       "      <td>10</td>\n",
       "    </tr>\n",
       "  </tbody>\n",
       "</table>\n",
       "<p>11 rows × 40 columns</p>\n",
       "</div>"
      ],
      "text/plain": [
       "         RequestID   StartDate     EndDate            AgencyName  \\\n",
       "1290   20130405006  04/08/2013  04/12/2013  Parks and Recreation   \n",
       "5177   20120210018  02/17/2012  02/24/2012  Parks and Recreation   \n",
       "5520   20130513022  05/16/2013  05/22/2013  Parks and Recreation   \n",
       "5611   20110325008  03/31/2011  04/06/2011  Parks and Recreation   \n",
       "29711  20110726011  08/02/2011  08/08/2011  Parks and Recreation   \n",
       "30480  20100616013  06/18/2010  06/24/2010  Parks and Recreation   \n",
       "30582  20111019010  10/25/2011  10/31/2011  Parks and Recreation   \n",
       "31101  20110929018  10/06/2011  10/13/2011  Parks and Recreation   \n",
       "31128  20120709001  07/16/2012  07/20/2012  Parks and Recreation   \n",
       "31911  20110324001  03/30/2011  04/05/2011  Parks and Recreation   \n",
       "32007  20111006012  10/12/2011  10/18/2011  Parks and Recreation   \n",
       "\n",
       "      TypeOfNoticeDescription CategoryDescription  \\\n",
       "1290                    Award  Goods and Services   \n",
       "5177                    Award  Goods and Services   \n",
       "5520                    Award  Goods and Services   \n",
       "5611                    Award  Goods and Services   \n",
       "29711                   Award  Goods and Services   \n",
       "30480                   Award  Goods and Services   \n",
       "30582                   Award  Goods and Services   \n",
       "31101                   Award  Goods and Services   \n",
       "31128                   Award  Goods and Services   \n",
       "31911                   Award               Goods   \n",
       "32007                   Award  Goods and Services   \n",
       "\n",
       "                                              ShortTitle  \\\n",
       "1290         CORRECTION: CONTINENTAL BREAKFAST AND LUNCH   \n",
       "5177                  GREENTHUMB GROWTOGETHER CONFERENCE   \n",
       "5520   95161-PRINTING, INSTALLATION AND REMOVAL OF SU...   \n",
       "5611                 CORRECTION: BUS SHELTER ADVERTISING   \n",
       "29711                               SOFTWARE MAINTENANCE   \n",
       "30480                        ADVERTISING ON MTA PROPERTY   \n",
       "30582                               ZOO GARAGE EXTENSION   \n",
       "31101                        ADVERTISING ON MTA PROPERTY   \n",
       "31128                               SOFTWARE MAINTENANCE   \n",
       "31911                        ADVERTISING ON MTA PROPERTY   \n",
       "32007     PUBLICATION OF NEW YORK WILDLIFE VIEWING GUIDE   \n",
       "\n",
       "      SelectionMethodDescription  SectionName  \\\n",
       "1290                 Sole Source  Procurement   \n",
       "5177                 Sole Source  Procurement   \n",
       "5520                 Sole Source  Procurement   \n",
       "5611                 Sole Source  Procurement   \n",
       "29711                Sole Source  Procurement   \n",
       "30480                Sole Source  Procurement   \n",
       "30582                Sole Source  Procurement   \n",
       "31101                Sole Source  Procurement   \n",
       "31128                Sole Source  Procurement   \n",
       "31911                Sole Source  Procurement   \n",
       "32007                Sole Source  Procurement   \n",
       "\n",
       "              SpecialCaseReasonDescription  ... EventDate  EventBuildingName  \\\n",
       "1290   Available only from a single source  ...       NaN                NaN   \n",
       "5177   Available only from a single source  ...       NaN                NaN   \n",
       "5520   Available only from a single source  ...       NaN                NaN   \n",
       "5611   Available only from a single source  ...       NaN                NaN   \n",
       "29711  Available only from a single source  ...       NaN                NaN   \n",
       "30480  Available only from a single source  ...       NaN                NaN   \n",
       "30582  Available only from a single source  ...       NaN                NaN   \n",
       "31101  Available only from a single source  ...       NaN                NaN   \n",
       "31128  Available only from a single source  ...       NaN                NaN   \n",
       "31911  Available only from a single source  ...       NaN                NaN   \n",
       "32007  Available only from a single source  ...       NaN                NaN   \n",
       "\n",
       "      EventStreetAddress1 EventStreetAddress2 EventCity EventStateCode  \\\n",
       "1290                  NaN                 NaN       NaN            NaN   \n",
       "5177                  NaN                 NaN       NaN            NaN   \n",
       "5520                  NaN                 NaN       NaN            NaN   \n",
       "5611                  NaN                 NaN       NaN            NaN   \n",
       "29711                 NaN                 NaN       NaN            NaN   \n",
       "30480                 NaN                 NaN       NaN            NaN   \n",
       "30582                 NaN                 NaN       NaN            NaN   \n",
       "31101                 NaN                 NaN       NaN            NaN   \n",
       "31128                 NaN                 NaN       NaN            NaN   \n",
       "31911                 NaN                 NaN       NaN            NaN   \n",
       "32007                 NaN                 NaN       NaN            NaN   \n",
       "\n",
       "       EventZipCode  StartDatesep startyear  startmonth  \n",
       "1290            NaN    2013-04-08      2013           4  \n",
       "5177            NaN    2012-02-17      2012           2  \n",
       "5520            NaN    2013-05-16      2013           5  \n",
       "5611            NaN    2011-03-31      2011           3  \n",
       "29711           NaN    2011-08-02      2011           8  \n",
       "30480           NaN    2010-06-18      2010           6  \n",
       "30582           NaN    2011-10-25      2011          10  \n",
       "31101           NaN    2011-10-06      2011          10  \n",
       "31128           NaN    2012-07-16      2012           7  \n",
       "31911           NaN    2011-03-30      2011           3  \n",
       "32007           NaN    2011-10-12      2011          10  \n",
       "\n",
       "[11 rows x 40 columns]"
      ]
     },
     "execution_count": 44,
     "metadata": {},
     "output_type": "execute_result"
    }
   ],
   "source": [
    "dfPark.loc[dfPark.StartDate!=dfPark.EndDate]"
   ]
  },
  {
   "cell_type": "code",
   "execution_count": 45,
   "metadata": {},
   "outputs": [
    {
     "name": "stderr",
     "output_type": "stream",
     "text": [
      "D:\\Program\\Anaconda3\\lib\\site-packages\\ipykernel_launcher.py:1: SettingWithCopyWarning: \n",
      "A value is trying to be set on a copy of a slice from a DataFrame.\n",
      "Try using .loc[row_indexer,col_indexer] = value instead\n",
      "\n",
      "See the caveats in the documentation: https://pandas.pydata.org/pandas-docs/stable/user_guide/indexing.html#returning-a-view-versus-a-copy\n",
      "  \"\"\"Entry point for launching an IPython kernel.\n"
     ]
    }
   ],
   "source": [
    "dfPark['day_of_week'] = dfPark['StartDatesep'].dt.weekday"
   ]
  },
  {
   "cell_type": "code",
   "execution_count": 46,
   "metadata": {},
   "outputs": [
    {
     "data": {
      "text/html": [
       "<div>\n",
       "<style scoped>\n",
       "    .dataframe tbody tr th:only-of-type {\n",
       "        vertical-align: middle;\n",
       "    }\n",
       "\n",
       "    .dataframe tbody tr th {\n",
       "        vertical-align: top;\n",
       "    }\n",
       "\n",
       "    .dataframe thead th {\n",
       "        text-align: right;\n",
       "    }\n",
       "</style>\n",
       "<table border=\"1\" class=\"dataframe\">\n",
       "  <thead>\n",
       "    <tr style=\"text-align: right;\">\n",
       "      <th></th>\n",
       "      <th>RequestID</th>\n",
       "      <th>StartDate</th>\n",
       "      <th>EndDate</th>\n",
       "      <th>AgencyName</th>\n",
       "      <th>TypeOfNoticeDescription</th>\n",
       "      <th>CategoryDescription</th>\n",
       "      <th>ShortTitle</th>\n",
       "      <th>SelectionMethodDescription</th>\n",
       "      <th>SectionName</th>\n",
       "      <th>SpecialCaseReasonDescription</th>\n",
       "      <th>...</th>\n",
       "      <th>EventBuildingName</th>\n",
       "      <th>EventStreetAddress1</th>\n",
       "      <th>EventStreetAddress2</th>\n",
       "      <th>EventCity</th>\n",
       "      <th>EventStateCode</th>\n",
       "      <th>EventZipCode</th>\n",
       "      <th>StartDatesep</th>\n",
       "      <th>startyear</th>\n",
       "      <th>startmonth</th>\n",
       "      <th>day_of_week</th>\n",
       "    </tr>\n",
       "  </thead>\n",
       "  <tbody>\n",
       "    <tr>\n",
       "      <th>1</th>\n",
       "      <td>20130214010</td>\n",
       "      <td>02/22/2013</td>\n",
       "      <td>02/22/2013</td>\n",
       "      <td>Parks and Recreation</td>\n",
       "      <td>Award</td>\n",
       "      <td>Services (other than human services)</td>\n",
       "      <td>DEPARTMENT OF PARKS  AND  RECREATION NOTICE OF...</td>\n",
       "      <td>Public Bid</td>\n",
       "      <td>Procurement</td>\n",
       "      <td>NaN</td>\n",
       "      <td>...</td>\n",
       "      <td>NaN</td>\n",
       "      <td>NaN</td>\n",
       "      <td>NaN</td>\n",
       "      <td>NaN</td>\n",
       "      <td>NaN</td>\n",
       "      <td>NaN</td>\n",
       "      <td>2013-02-22</td>\n",
       "      <td>2013</td>\n",
       "      <td>2</td>\n",
       "      <td>4</td>\n",
       "    </tr>\n",
       "    <tr>\n",
       "      <th>3</th>\n",
       "      <td>20130415019</td>\n",
       "      <td>04/22/2013</td>\n",
       "      <td>04/22/2013</td>\n",
       "      <td>Parks and Recreation</td>\n",
       "      <td>Award</td>\n",
       "      <td>Goods</td>\n",
       "      <td>NOTICE OF AWARD</td>\n",
       "      <td>Public Bid</td>\n",
       "      <td>Procurement</td>\n",
       "      <td>NaN</td>\n",
       "      <td>...</td>\n",
       "      <td>NaN</td>\n",
       "      <td>NaN</td>\n",
       "      <td>NaN</td>\n",
       "      <td>NaN</td>\n",
       "      <td>NaN</td>\n",
       "      <td>NaN</td>\n",
       "      <td>2013-04-22</td>\n",
       "      <td>2013</td>\n",
       "      <td>4</td>\n",
       "      <td>0</td>\n",
       "    </tr>\n",
       "    <tr>\n",
       "      <th>5</th>\n",
       "      <td>20130621002</td>\n",
       "      <td>06/27/2013</td>\n",
       "      <td>06/27/2013</td>\n",
       "      <td>Parks and Recreation</td>\n",
       "      <td>Award</td>\n",
       "      <td>Goods and Services</td>\n",
       "      <td>OPERATION AND MAINTENANCE OF UP TO TWO (2) BOO...</td>\n",
       "      <td>Request for Proposals</td>\n",
       "      <td>Procurement</td>\n",
       "      <td>NaN</td>\n",
       "      <td>...</td>\n",
       "      <td>NaN</td>\n",
       "      <td>NaN</td>\n",
       "      <td>NaN</td>\n",
       "      <td>NaN</td>\n",
       "      <td>NaN</td>\n",
       "      <td>NaN</td>\n",
       "      <td>2013-06-27</td>\n",
       "      <td>2013</td>\n",
       "      <td>6</td>\n",
       "      <td>3</td>\n",
       "    </tr>\n",
       "    <tr>\n",
       "      <th>6</th>\n",
       "      <td>20130422012</td>\n",
       "      <td>04/29/2013</td>\n",
       "      <td>04/29/2013</td>\n",
       "      <td>Parks and Recreation</td>\n",
       "      <td>Award</td>\n",
       "      <td>Goods and Services</td>\n",
       "      <td>NOTICE OF CONCESSION  AWARD</td>\n",
       "      <td>Public Bid</td>\n",
       "      <td>Procurement</td>\n",
       "      <td>NaN</td>\n",
       "      <td>...</td>\n",
       "      <td>NaN</td>\n",
       "      <td>NaN</td>\n",
       "      <td>NaN</td>\n",
       "      <td>NaN</td>\n",
       "      <td>NaN</td>\n",
       "      <td>NaN</td>\n",
       "      <td>2013-04-29</td>\n",
       "      <td>2013</td>\n",
       "      <td>4</td>\n",
       "      <td>0</td>\n",
       "    </tr>\n",
       "    <tr>\n",
       "      <th>10</th>\n",
       "      <td>20130307016</td>\n",
       "      <td>03/15/2013</td>\n",
       "      <td>03/15/2013</td>\n",
       "      <td>Parks and Recreation</td>\n",
       "      <td>Award</td>\n",
       "      <td>Human Services/Client Services</td>\n",
       "      <td>PARKS  AND  RECREATION AWARD NOTICES</td>\n",
       "      <td>Public Bid</td>\n",
       "      <td>Procurement</td>\n",
       "      <td>NaN</td>\n",
       "      <td>...</td>\n",
       "      <td>NaN</td>\n",
       "      <td>NaN</td>\n",
       "      <td>NaN</td>\n",
       "      <td>NaN</td>\n",
       "      <td>NaN</td>\n",
       "      <td>NaN</td>\n",
       "      <td>2013-03-15</td>\n",
       "      <td>2013</td>\n",
       "      <td>3</td>\n",
       "      <td>4</td>\n",
       "    </tr>\n",
       "  </tbody>\n",
       "</table>\n",
       "<p>5 rows × 41 columns</p>\n",
       "</div>"
      ],
      "text/plain": [
       "      RequestID   StartDate     EndDate            AgencyName  \\\n",
       "1   20130214010  02/22/2013  02/22/2013  Parks and Recreation   \n",
       "3   20130415019  04/22/2013  04/22/2013  Parks and Recreation   \n",
       "5   20130621002  06/27/2013  06/27/2013  Parks and Recreation   \n",
       "6   20130422012  04/29/2013  04/29/2013  Parks and Recreation   \n",
       "10  20130307016  03/15/2013  03/15/2013  Parks and Recreation   \n",
       "\n",
       "   TypeOfNoticeDescription                   CategoryDescription  \\\n",
       "1                    Award  Services (other than human services)   \n",
       "3                    Award                                 Goods   \n",
       "5                    Award                    Goods and Services   \n",
       "6                    Award                    Goods and Services   \n",
       "10                   Award        Human Services/Client Services   \n",
       "\n",
       "                                           ShortTitle  \\\n",
       "1   DEPARTMENT OF PARKS  AND  RECREATION NOTICE OF...   \n",
       "3                                     NOTICE OF AWARD   \n",
       "5   OPERATION AND MAINTENANCE OF UP TO TWO (2) BOO...   \n",
       "6                         NOTICE OF CONCESSION  AWARD   \n",
       "10               PARKS  AND  RECREATION AWARD NOTICES   \n",
       "\n",
       "   SelectionMethodDescription  SectionName SpecialCaseReasonDescription  ...  \\\n",
       "1                  Public Bid  Procurement                          NaN  ...   \n",
       "3                  Public Bid  Procurement                          NaN  ...   \n",
       "5       Request for Proposals  Procurement                          NaN  ...   \n",
       "6                  Public Bid  Procurement                          NaN  ...   \n",
       "10                 Public Bid  Procurement                          NaN  ...   \n",
       "\n",
       "   EventBuildingName  EventStreetAddress1 EventStreetAddress2 EventCity  \\\n",
       "1                NaN                  NaN                 NaN       NaN   \n",
       "3                NaN                  NaN                 NaN       NaN   \n",
       "5                NaN                  NaN                 NaN       NaN   \n",
       "6                NaN                  NaN                 NaN       NaN   \n",
       "10               NaN                  NaN                 NaN       NaN   \n",
       "\n",
       "   EventStateCode EventZipCode  StartDatesep  startyear startmonth  \\\n",
       "1             NaN          NaN    2013-02-22       2013          2   \n",
       "3             NaN          NaN    2013-04-22       2013          4   \n",
       "5             NaN          NaN    2013-06-27       2013          6   \n",
       "6             NaN          NaN    2013-04-29       2013          4   \n",
       "10            NaN          NaN    2013-03-15       2013          3   \n",
       "\n",
       "    day_of_week  \n",
       "1             4  \n",
       "3             0  \n",
       "5             3  \n",
       "6             0  \n",
       "10            4  \n",
       "\n",
       "[5 rows x 41 columns]"
      ]
     },
     "execution_count": 46,
     "metadata": {},
     "output_type": "execute_result"
    }
   ],
   "source": [
    "dfPark.head()"
   ]
  },
  {
   "cell_type": "code",
   "execution_count": 47,
   "metadata": {},
   "outputs": [
    {
     "data": {
      "text/plain": [
       "array([4, 0, 3, 2, 1], dtype=int64)"
      ]
     },
     "execution_count": 47,
     "metadata": {},
     "output_type": "execute_result"
    }
   ],
   "source": [
    "dfPark['day_of_week'].unique()"
   ]
  },
  {
   "cell_type": "code",
   "execution_count": 48,
   "metadata": {},
   "outputs": [
    {
     "data": {
      "text/plain": [
       "Power_divergenceResult(statistic=709.9978917779339, pvalue=0.5035523965717198)"
      ]
     },
     "execution_count": 48,
     "metadata": {},
     "output_type": "execute_result"
    }
   ],
   "source": [
    "from scipy.stats import chisquare\n",
    "chisquare(dfPark['day_of_week'])"
   ]
  },
  {
   "cell_type": "code",
   "execution_count": 49,
   "metadata": {},
   "outputs": [
    {
     "data": {
      "text/plain": [
       "<matplotlib.axes._subplots.AxesSubplot at 0x27acc578388>"
      ]
     },
     "execution_count": 49,
     "metadata": {},
     "output_type": "execute_result"
    },
    {
     "data": {
      "image/png": "[encoded data removed]",
      "text/plain": [
       "<Figure size 432x288 with 1 Axes>"
      ]
     },
     "metadata": {
      "needs_background": "light"
     },
     "output_type": "display_data"
    }
   ],
   "source": [
    "import seaborn\n",
    "seaborn.countplot(dfPark['day_of_week'])"
   ]
  },
  {
   "cell_type": "code",
   "execution_count": 50,
   "metadata": {},
   "outputs": [
    {
     "data": {
      "text/plain": [
       "day_of_week\n",
       "0    131\n",
       "1    164\n",
       "2    145\n",
       "3    119\n",
       "4    153\n",
       "Name: day_of_week, dtype: int64"
      ]
     },
     "execution_count": 50,
     "metadata": {},
     "output_type": "execute_result"
    }
   ],
   "source": [
    "dfPark['day_of_week'].groupby(dfPark['day_of_week']).count()"
   ]
  },
  {
   "cell_type": "code",
   "execution_count": 51,
   "metadata": {},
   "outputs": [
    {
     "data": {
      "text/plain": [
       "Power_divergenceResult(statistic=8.870786516853933, pvalue=0.06441160992283528)"
      ]
     },
     "execution_count": 51,
     "metadata": {},
     "output_type": "execute_result"
    }
   ],
   "source": [
    "chisquare(dfPark['day_of_week'].groupby(dfPark['day_of_week']).count())"
   ]
  },
  {
   "cell_type": "markdown",
   "metadata": {},
   "source": [
    "For this question, consider only contracts with in the categories of Construction Related Services and Construction/Construction Services. The ShortTitle field contains a description of the procured goods/services for each contract. Compute the sum contract amount for contracts whose ShortTitle refer to 'CENTRAL PARK' and for those which refer to 'WASHINGTON SQUARE PARK'. What is the ratio of total construction and contruction-related expenditure for the Central Park contracts compared to the Washington Square Park contracts? Note: you should ensure that 'PARK' appears on its own and not as the beginning of another word."
   ]
  },
  {
   "cell_type": "code",
   "execution_count": 52,
   "metadata": {},
   "outputs": [
    {
     "data": {
      "text/plain": [
       "Index(['RequestID', 'StartDate', 'EndDate', 'AgencyName',\n",
       "       'TypeOfNoticeDescription', 'CategoryDescription', 'ShortTitle',\n",
       "       'SelectionMethodDescription', 'SectionName',\n",
       "       'SpecialCaseReasonDescription', 'PIN', 'DueDate', 'AddressToRequest',\n",
       "       'ContactName', 'ContactPhone', 'Email', 'ContractAmount', 'ContactFax',\n",
       "       'AdditionalDescription1', 'AdditionalDesctription2',\n",
       "       'AdditionalDescription3', 'OtherInfo1', 'OtherInfo2', 'OtherInfo3',\n",
       "       'VendorName', 'VendorAddress', 'Printout1', 'Printout2', 'Printout3',\n",
       "       'DocumentLinks', 'EventDate', 'EventBuildingName',\n",
       "       'EventStreetAddress1', 'EventStreetAddress2', 'EventCity',\n",
       "       'EventStateCode', 'EventZipCode', 'StartDatesep', 'startyear',\n",
       "       'startmonth'],\n",
       "      dtype='object')"
      ]
     },
     "execution_count": 52,
     "metadata": {},
     "output_type": "execute_result"
    }
   ],
   "source": [
    "df.columns"
   ]
  },
  {
   "cell_type": "code",
   "execution_count": 53,
   "metadata": {},
   "outputs": [],
   "source": [
    "dfconstr=df.loc[(df.CategoryDescription=='Construction Related Services')|(df.CategoryDescription=='Construction/Construction Services') ]"
   ]
  },
  {
   "cell_type": "code",
   "execution_count": 54,
   "metadata": {},
   "outputs": [
    {
     "data": {
      "text/html": [
       "<div>\n",
       "<style scoped>\n",
       "    .dataframe tbody tr th:only-of-type {\n",
       "        vertical-align: middle;\n",
       "    }\n",
       "\n",
       "    .dataframe tbody tr th {\n",
       "        vertical-align: top;\n",
       "    }\n",
       "\n",
       "    .dataframe thead th {\n",
       "        text-align: right;\n",
       "    }\n",
       "</style>\n",
       "<table border=\"1\" class=\"dataframe\">\n",
       "  <thead>\n",
       "    <tr style=\"text-align: right;\">\n",
       "      <th></th>\n",
       "      <th>RequestID</th>\n",
       "      <th>StartDate</th>\n",
       "      <th>EndDate</th>\n",
       "      <th>AgencyName</th>\n",
       "      <th>TypeOfNoticeDescription</th>\n",
       "      <th>CategoryDescription</th>\n",
       "      <th>ShortTitle</th>\n",
       "      <th>SelectionMethodDescription</th>\n",
       "      <th>SectionName</th>\n",
       "      <th>SpecialCaseReasonDescription</th>\n",
       "      <th>...</th>\n",
       "      <th>EventDate</th>\n",
       "      <th>EventBuildingName</th>\n",
       "      <th>EventStreetAddress1</th>\n",
       "      <th>EventStreetAddress2</th>\n",
       "      <th>EventCity</th>\n",
       "      <th>EventStateCode</th>\n",
       "      <th>EventZipCode</th>\n",
       "      <th>StartDatesep</th>\n",
       "      <th>startyear</th>\n",
       "      <th>startmonth</th>\n",
       "    </tr>\n",
       "  </thead>\n",
       "  <tbody>\n",
       "  </tbody>\n",
       "</table>\n",
       "<p>0 rows × 40 columns</p>\n",
       "</div>"
      ],
      "text/plain": [
       "Empty DataFrame\n",
       "Columns: [RequestID, StartDate, EndDate, AgencyName, TypeOfNoticeDescription, CategoryDescription, ShortTitle, SelectionMethodDescription, SectionName, SpecialCaseReasonDescription, PIN, DueDate, AddressToRequest, ContactName, ContactPhone, Email, ContractAmount, ContactFax, AdditionalDescription1, AdditionalDesctription2, AdditionalDescription3, OtherInfo1, OtherInfo2, OtherInfo3, VendorName, VendorAddress, Printout1, Printout2, Printout3, DocumentLinks, EventDate, EventBuildingName, EventStreetAddress1, EventStreetAddress2, EventCity, EventStateCode, EventZipCode, StartDatesep, startyear, startmonth]\n",
       "Index: []\n",
       "\n",
       "[0 rows x 40 columns]"
      ]
     },
     "execution_count": 54,
     "metadata": {},
     "output_type": "execute_result"
    }
   ],
   "source": [
    "dfconstr.loc[df.ShortTitle=='WASHINGTON SQUARE PARK']"
   ]
  },
  {
   "cell_type": "code",
   "execution_count": 55,
   "metadata": {},
   "outputs": [
    {
     "data": {
      "text/plain": [
       "32851    8939669.24\n",
       "Name: ContractAmount, dtype: float64"
      ]
     },
     "execution_count": 55,
     "metadata": {},
     "output_type": "execute_result"
    }
   ],
   "source": [
    "dfconstr.loc[dfconstr['ShortTitle'].str.contains(\"WASHINGTON SQUARE PARK\")]['ContractAmount']"
   ]
  },
  {
   "cell_type": "code",
   "execution_count": 56,
   "metadata": {},
   "outputs": [
    {
     "data": {
      "text/plain": [
       "13198315.24"
      ]
     },
     "execution_count": 56,
     "metadata": {},
     "output_type": "execute_result"
    }
   ],
   "source": [
    "dfconstr['ContractAmount'].loc[dfconstr['ShortTitle'].str.contains(\"CENTRAL PARK\")].sum()"
   ]
  },
  {
   "cell_type": "code",
   "execution_count": 57,
   "metadata": {},
   "outputs": [
    {
     "data": {
      "text/plain": [
       "1.4763762378304726"
      ]
     },
     "execution_count": 57,
     "metadata": {},
     "output_type": "execute_result"
    }
   ],
   "source": [
    "dfconstr['ContractAmount'].loc[dfconstr['ShortTitle'].str.contains(\"CENTRAL PARK\")].sum()/dfconstr.loc[dfconstr['ShortTitle'].str.contains(\"WASHINGTON SQUARE PARK\")]['ContractAmount'].sum()"
   ]
  },
  {
   "cell_type": "markdown",
   "metadata": {},
   "source": [
    "Is there a predictable, yearly pattern of spending for certain agencies? As an example, consider the Environmental Protection agency. For each month from 2010 through the end of 2019, compute the monthly expenditure for each agency. Once again, use StartDate for the contract date. Then, with a lag of 12 months, report the autocorrelation for total monthly expenditure."
   ]
  },
  {
   "cell_type": "code",
   "execution_count": 58,
   "metadata": {},
   "outputs": [],
   "source": [
    "dfEnvironmental=df.loc[df['AgencyName']=='Environmental Protection']"
   ]
  },
  {
   "cell_type": "code",
   "execution_count": 59,
   "metadata": {},
   "outputs": [
    {
     "name": "stderr",
     "output_type": "stream",
     "text": [
      "D:\\Program\\Anaconda3\\lib\\site-packages\\ipykernel_launcher.py:1: SettingWithCopyWarning: \n",
      "A value is trying to be set on a copy of a slice from a DataFrame.\n",
      "Try using .loc[row_indexer,col_indexer] = value instead\n",
      "\n",
      "See the caveats in the documentation: https://pandas.pydata.org/pandas-docs/stable/user_guide/indexing.html#returning-a-view-versus-a-copy\n",
      "  \"\"\"Entry point for launching an IPython kernel.\n"
     ]
    }
   ],
   "source": [
    "dfEnvironmental['monthly']=dfEnvironmental['StartDatesep'].dt.strftime('%Y-%m')"
   ]
  },
  {
   "cell_type": "code",
   "execution_count": 60,
   "metadata": {},
   "outputs": [],
   "source": [
    "dfEnvironmental=dfEnvironmental.sort_values('monthly').reset_index(drop=True)"
   ]
  },
  {
   "cell_type": "code",
   "execution_count": 61,
   "metadata": {},
   "outputs": [
    {
     "data": {
      "text/plain": [
       "monthly\n",
       "2010-02    1.165714e+07\n",
       "2010-03    2.345447e+07\n",
       "2010-04    6.084658e+06\n",
       "2010-05    1.491812e+06\n",
       "2010-06    2.454927e+06\n",
       "               ...     \n",
       "2019-08    2.909235e+09\n",
       "2019-09    1.542845e+07\n",
       "2019-10    2.152839e+07\n",
       "2019-11    5.725265e+07\n",
       "2019-12    4.372172e+07\n",
       "Name: ContractAmount, Length: 72, dtype: float64"
      ]
     },
     "execution_count": 61,
     "metadata": {},
     "output_type": "execute_result"
    }
   ],
   "source": [
    "dfEnvironmental.groupby(dfEnvironmental['monthly'])['ContractAmount'].agg('sum')"
   ]
  },
  {
   "cell_type": "code",
   "execution_count": 62,
   "metadata": {},
   "outputs": [],
   "source": [
    "dfEnvironmental['monthlysum']=dfEnvironmental.groupby(dfEnvironmental['monthly'])['ContractAmount'].transform('sum')"
   ]
  },
  {
   "cell_type": "code",
   "execution_count": 63,
   "metadata": {},
   "outputs": [
    {
     "data": {
      "text/html": [
       "<div>\n",
       "<style scoped>\n",
       "    .dataframe tbody tr th:only-of-type {\n",
       "        vertical-align: middle;\n",
       "    }\n",
       "\n",
       "    .dataframe tbody tr th {\n",
       "        vertical-align: top;\n",
       "    }\n",
       "\n",
       "    .dataframe thead th {\n",
       "        text-align: right;\n",
       "    }\n",
       "</style>\n",
       "<table border=\"1\" class=\"dataframe\">\n",
       "  <thead>\n",
       "    <tr style=\"text-align: right;\">\n",
       "      <th></th>\n",
       "      <th>monthlysum</th>\n",
       "    </tr>\n",
       "    <tr>\n",
       "      <th>monthly</th>\n",
       "      <th></th>\n",
       "    </tr>\n",
       "  </thead>\n",
       "  <tbody>\n",
       "    <tr>\n",
       "      <th>2010-02</th>\n",
       "      <td>11657138.22</td>\n",
       "    </tr>\n",
       "    <tr>\n",
       "      <th>2010-03</th>\n",
       "      <td>23454472.00</td>\n",
       "    </tr>\n",
       "  </tbody>\n",
       "</table>\n",
       "</div>"
      ],
      "text/plain": [
       "          monthlysum\n",
       "monthly             \n",
       "2010-02  11657138.22\n",
       "2010-03  23454472.00"
      ]
     },
     "execution_count": 63,
     "metadata": {},
     "output_type": "execute_result"
    }
   ],
   "source": [
    "newdfEnvironmental=dfEnvironmental[['monthly', 'monthlysum']]\n",
    "\n",
    "newdfEnvironmental=newdfEnvironmental.drop_duplicates(keep='first', inplace=False).reset_index(drop=True)\n",
    "\n",
    "newdfEnvironmental=newdfEnvironmental.set_index('monthly')\n",
    "newdfEnvironmental.head(2)"
   ]
  },
  {
   "cell_type": "code",
   "execution_count": 64,
   "metadata": {},
   "outputs": [
    {
     "data": {
      "text/plain": [
       "<matplotlib.axes._subplots.AxesSubplot at 0x27accd58108>"
      ]
     },
     "execution_count": 64,
     "metadata": {},
     "output_type": "execute_result"
    },
    {
     "data": {
      "image/png": "[encoded data removed]",
      "text/plain": [
       "<Figure size 432x288 with 1 Axes>"
      ]
     },
     "metadata": {
      "needs_background": "light"
     },
     "output_type": "display_data"
    }
   ],
   "source": [
    "pd.plotting.autocorrelation_plot(newdfEnvironmental)"
   ]
  },
  {
   "cell_type": "code",
   "execution_count": 65,
   "metadata": {},
   "outputs": [
    {
     "data": {
      "image/png": "[encoded data removed]",
      "text/plain": [
       "<Figure size 1440x360 with 1 Axes>"
      ]
     },
     "metadata": {
      "needs_background": "light"
     },
     "output_type": "display_data"
    }
   ],
   "source": [
    "import matplotlib.pyplot as plt\n",
    "newdfEnvironmental.plot(figsize=(20,5), linewidth=5, fontsize=20)\n",
    "plt.xlabel('Month', fontsize=20);"
   ]
  },
  {
   "cell_type": "code",
   "execution_count": 66,
   "metadata": {},
   "outputs": [
    {
     "data": {
      "text/plain": [
       "0.03310011426677631"
      ]
     },
     "execution_count": 66,
     "metadata": {},
     "output_type": "execute_result"
    }
   ],
   "source": [
    "newdfEnvironmental['monthlysum'].autocorr(lag=12)"
   ]
  },
  {
   "cell_type": "markdown",
   "metadata": {},
   "source": [
    "Consider only contracts awarded by the Citywide Administrative Services agency in the category Goods. Compute the total yearly expenditure (using StartDate) for these contracts and fit a linear regression model to these values. What is the R^2 value for this model?"
   ]
  },
  {
   "cell_type": "code",
   "execution_count": 67,
   "metadata": {},
   "outputs": [
    {
     "name": "stderr",
     "output_type": "stream",
     "text": [
      "D:\\Program\\Anaconda3\\lib\\site-packages\\ipykernel_launcher.py:3: SettingWithCopyWarning: \n",
      "A value is trying to be set on a copy of a slice from a DataFrame.\n",
      "Try using .loc[row_indexer,col_indexer] = value instead\n",
      "\n",
      "See the caveats in the documentation: https://pandas.pydata.org/pandas-docs/stable/user_guide/indexing.html#returning-a-view-versus-a-copy\n",
      "  This is separate from the ipykernel package so we can avoid doing imports until\n"
     ]
    }
   ],
   "source": [
    "dfCitywide =df.loc[(df['AgencyName']== 'Citywide Administrative Services') & (df['CategoryDescription']== 'Goods')]\n",
    "\n",
    "dfCitywide['yearsum']=dfCitywide.groupby(dfCitywide['startyear'])['ContractAmount'].transform('sum')\n",
    "\n",
    "newdfCitywide=dfCitywide[['startyear','yearsum']].drop_duplicates(inplace=False).sort_values('startyear').reset_index(drop=True)\n"
   ]
  },
  {
   "cell_type": "code",
   "execution_count": 69,
   "metadata": {},
   "outputs": [
    {
     "data": {
      "text/plain": [
       "0.3598764266839495"
      ]
     },
     "execution_count": 69,
     "metadata": {},
     "output_type": "execute_result"
    }
   ],
   "source": [
    "import numpy as np\n",
    "x=np.array(newdfCitywide['yearsum']).reshape(-1, 1)\n",
    "y=np.array(newdfCitywide['startyear']).reshape(-1, 1)\n",
    "\n",
    "from sklearn.linear_model import LinearRegression\n",
    "regressor = LinearRegression()\n",
    "regressor.fit(x, y)\n",
    "\n",
    "from sklearn.metrics import mean_squared_error, r2_score\n",
    "\n",
    "ypred=regressor.predict(x)\n",
    "\n",
    "r2_score(y,ypred)"
   ]
  },
  {
   "cell_type": "markdown",
   "metadata": {},
   "source": [
    "In this question, we will examine whether contract expenditure goes to companies located within or outside of New York City. To do so, we will extract the ZIP codes from the VendorAddress field. The ZIP codes pertaining to New York City can be found at the following URL: https://www.health.ny.gov/statistics/cancer/registry/appendix/neighborhoods.htm. Looking only at contracts with a StartDate in 2018, compute the total expenditure for contracts awarded to vendors listing NYC addresses and those located elsewhere. Report the proportion of the total expenditures awarded to the NYC vendors."
   ]
  },
  {
   "cell_type": "code",
   "execution_count": 93,
   "metadata": {},
   "outputs": [],
   "source": [
    "df2018=df.loc[df['startyear']==2018]\n",
    "\n",
    "#df2018.loc[(df2018['VendorAddress'] .str.contains(\"New York\"))|(df2018['VendorAddress'] .str.contains(\"NY\"))]['ContractAmount'].sum()/df2018['ContractAmount'].sum()"
   ]
  },
  {
   "cell_type": "code",
   "execution_count": 94,
   "metadata": {},
   "outputs": [
    {
     "name": "stderr",
     "output_type": "stream",
     "text": [
      "D:\\Program\\Anaconda3\\lib\\site-packages\\ipykernel_launcher.py:2: SettingWithCopyWarning: \n",
      "A value is trying to be set on a copy of a slice from a DataFrame.\n",
      "Try using .loc[row_indexer,col_indexer] = value instead\n",
      "\n",
      "See the caveats in the documentation: https://pandas.pydata.org/pandas-docs/stable/user_guide/indexing.html#returning-a-view-versus-a-copy\n",
      "  \n"
     ]
    }
   ],
   "source": [
    "import re\n",
    "df2018['zipcode'] = df['VendorAddress'].str.extract(r'(\\d{5})')"
   ]
  },
  {
   "cell_type": "code",
   "execution_count": 96,
   "metadata": {},
   "outputs": [
    {
     "data": {
      "text/plain": [
       "27"
      ]
     },
     "execution_count": 96,
     "metadata": {},
     "output_type": "execute_result"
    }
   ],
   "source": [
    "df2018=df2018.sort_values('zipcode',ascending=True).reset_index(drop=True)\n",
    "\n",
    "df2018['zipcode'].isnull().sum(axis=0)\n"
   ]
  },
  {
   "cell_type": "code",
   "execution_count": 97,
   "metadata": {},
   "outputs": [
    {
     "data": {
      "text/plain": [
       "(2481, 41)"
      ]
     },
     "execution_count": 97,
     "metadata": {},
     "output_type": "execute_result"
    }
   ],
   "source": [
    "df2018.shape"
   ]
  },
  {
   "cell_type": "code",
   "execution_count": 98,
   "metadata": {},
   "outputs": [
    {
     "data": {
      "text/plain": [
       "2458     100000.00\n",
       "2468     150000.00\n",
       "2469    8700357.00\n",
       "2475    4188939.24\n",
       "2478      27500.00\n",
       "Name: ContractAmount, dtype: float64"
      ]
     },
     "execution_count": 98,
     "metadata": {},
     "output_type": "execute_result"
    }
   ],
   "source": [
    "df2018zipna=df2018.loc[df2018['zipcode'].isnull()]\n",
    "df2018zipna.loc[(df2018zipna['VendorAddress'] .str.contains(\"New York\"))|(df2018zipna['VendorAddress'] .str.contains(\"NY\"))]['ContractAmount']"
   ]
  },
  {
   "cell_type": "code",
   "execution_count": 99,
   "metadata": {},
   "outputs": [
    {
     "data": {
      "text/plain": [
       "(27, 41)"
      ]
     },
     "execution_count": 99,
     "metadata": {},
     "output_type": "execute_result"
    }
   ],
   "source": [
    "df2018zipna.shape"
   ]
  },
  {
   "cell_type": "code",
   "execution_count": 102,
   "metadata": {},
   "outputs": [
    {
     "data": {
      "text/plain": [
       "(2454, 41)"
      ]
     },
     "execution_count": 102,
     "metadata": {},
     "output_type": "execute_result"
    }
   ],
   "source": [
    "df2018zip=df2018[~df2018['zipcode'].isin(df2018zipna['zipcode'])]\n",
    "df2018zip.shape"
   ]
  },
  {
   "cell_type": "code",
   "execution_count": 103,
   "metadata": {},
   "outputs": [
    {
     "name": "stderr",
     "output_type": "stream",
     "text": [
      "D:\\Program\\Anaconda3\\lib\\site-packages\\ipykernel_launcher.py:1: SettingWithCopyWarning: \n",
      "A value is trying to be set on a copy of a slice from a DataFrame.\n",
      "Try using .loc[row_indexer,col_indexer] = value instead\n",
      "\n",
      "See the caveats in the documentation: https://pandas.pydata.org/pandas-docs/stable/user_guide/indexing.html#returning-a-view-versus-a-copy\n",
      "  \"\"\"Entry point for launching an IPython kernel.\n"
     ]
    }
   ],
   "source": [
    "df2018zip['zipcode']=df2018zip['zipcode'].astype(int)"
   ]
  },
  {
   "cell_type": "code",
   "execution_count": 104,
   "metadata": {},
   "outputs": [],
   "source": [
    "df2018ny=df2018zip.loc[(df2018zip['zipcode']>=10000)&(df2018zip['zipcode']<=11436)]"
   ]
  },
  {
   "cell_type": "code",
   "execution_count": 105,
   "metadata": {},
   "outputs": [
    {
     "data": {
      "text/plain": [
       "(1622, 41)"
      ]
     },
     "execution_count": 105,
     "metadata": {},
     "output_type": "execute_result"
    }
   ],
   "source": [
    "df2018ny.shape"
   ]
  },
  {
   "cell_type": "code",
   "execution_count": 106,
   "metadata": {},
   "outputs": [
    {
     "data": {
      "text/plain": [
       "13838203406.880001"
      ]
     },
     "execution_count": 106,
     "metadata": {},
     "output_type": "execute_result"
    }
   ],
   "source": [
    "df2018zip.loc[(df2018zip['zipcode']>=10000)&(df2018zip['zipcode']<=11436)]['ContractAmount'].sum()"
   ]
  },
  {
   "cell_type": "code",
   "execution_count": 109,
   "metadata": {},
   "outputs": [
    {
     "data": {
      "text/plain": [
       "0.7390108421142606"
      ]
     },
     "execution_count": 109,
     "metadata": {},
     "output_type": "execute_result"
    }
   ],
   "source": [
    "df2018zipna.loc[(df2018zipna['VendorAddress'] .str.contains(\"New York\"))|(df2018zipna['VendorAddress'] .str.contains(\"NY\"))]['ContractAmount'].sum()\n",
    "\n",
    "df2018['ContractAmount'].sum()\n",
    "\n",
    "(13838203406.880001+13166796.24)/18743121770.03"
   ]
  },
  {
   "cell_type": "code",
   "execution_count": null,
   "metadata": {},
   "outputs": [],
   "source": []
  }
 ],
 "metadata": {
  "kernelspec": {
   "display_name": "Python 3",
   "language": "python",
   "name": "python3"
  },
  "language_info": {
   "codemirror_mode": {
    "name": "ipython",
    "version": 3
   },
   "file_extension": ".py",
   "mimetype": "text/x-python",
   "name": "python",
   "nbconvert_exporter": "python",
   "pygments_lexer": "ipython3",
   "version": "3.7.6"
  }
 },
 "nbformat": 4,
 "nbformat_minor": 4
}
